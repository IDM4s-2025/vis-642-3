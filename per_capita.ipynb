{
 "cells": [
  {
   "cell_type": "code",
   "execution_count": 1,
   "id": "81a8041d",
   "metadata": {},
   "outputs": [],
   "source": [
    "import pandas as pd\n",
    "import requests\n",
    "import plotly.express as px\n",
    "\n",
    "\n",
    "# Fetch the data.\n",
    "df = pd.read_csv(\"https://ourworldindata.org/grapher/gdp-per-capita-worldbank.csv?v=1&csvType=full&useColumnShortNames=true\", storage_options = {'User-Agent': 'Our World In Data data fetch/1.0'})\n",
    "\n",
    "# Fetch the metadata\n",
    "metadata = requests.get(\"https://ourworldindata.org/grapher/gdp-per-capita-worldbank.metadata.json?v=1&csvType=full&useColumnShortNames=true\").json()"
   ]
  },
  {
   "cell_type": "code",
   "execution_count": 2,
   "id": "c6fe2816",
   "metadata": {},
   "outputs": [
    {
     "data": {
      "text/html": [
       "<div>\n",
       "<style scoped>\n",
       "    .dataframe tbody tr th:only-of-type {\n",
       "        vertical-align: middle;\n",
       "    }\n",
       "\n",
       "    .dataframe tbody tr th {\n",
       "        vertical-align: top;\n",
       "    }\n",
       "\n",
       "    .dataframe thead th {\n",
       "        text-align: right;\n",
       "    }\n",
       "</style>\n",
       "<table border=\"1\" class=\"dataframe\">\n",
       "  <thead>\n",
       "    <tr style=\"text-align: right;\">\n",
       "      <th></th>\n",
       "      <th>Entity</th>\n",
       "      <th>Code</th>\n",
       "      <th>Year</th>\n",
       "      <th>ny_gdp_pcap_pp_kd</th>\n",
       "    </tr>\n",
       "  </thead>\n",
       "  <tbody>\n",
       "    <tr>\n",
       "      <th>0</th>\n",
       "      <td>Afghanistan</td>\n",
       "      <td>AFG</td>\n",
       "      <td>2000</td>\n",
       "      <td>1617.8264</td>\n",
       "    </tr>\n",
       "    <tr>\n",
       "      <th>1</th>\n",
       "      <td>Afghanistan</td>\n",
       "      <td>AFG</td>\n",
       "      <td>2001</td>\n",
       "      <td>1454.1108</td>\n",
       "    </tr>\n",
       "    <tr>\n",
       "      <th>2</th>\n",
       "      <td>Afghanistan</td>\n",
       "      <td>AFG</td>\n",
       "      <td>2002</td>\n",
       "      <td>1774.3087</td>\n",
       "    </tr>\n",
       "    <tr>\n",
       "      <th>3</th>\n",
       "      <td>Afghanistan</td>\n",
       "      <td>AFG</td>\n",
       "      <td>2003</td>\n",
       "      <td>1815.9282</td>\n",
       "    </tr>\n",
       "    <tr>\n",
       "      <th>4</th>\n",
       "      <td>Afghanistan</td>\n",
       "      <td>AFG</td>\n",
       "      <td>2004</td>\n",
       "      <td>1776.9182</td>\n",
       "    </tr>\n",
       "    <tr>\n",
       "      <th>...</th>\n",
       "      <td>...</td>\n",
       "      <td>...</td>\n",
       "      <td>...</td>\n",
       "      <td>...</td>\n",
       "    </tr>\n",
       "    <tr>\n",
       "      <th>7058</th>\n",
       "      <td>Zimbabwe</td>\n",
       "      <td>ZWE</td>\n",
       "      <td>2019</td>\n",
       "      <td>3294.8062</td>\n",
       "    </tr>\n",
       "    <tr>\n",
       "      <th>7059</th>\n",
       "      <td>Zimbabwe</td>\n",
       "      <td>ZWE</td>\n",
       "      <td>2020</td>\n",
       "      <td>2987.2698</td>\n",
       "    </tr>\n",
       "    <tr>\n",
       "      <th>7060</th>\n",
       "      <td>Zimbabwe</td>\n",
       "      <td>ZWE</td>\n",
       "      <td>2021</td>\n",
       "      <td>3184.7854</td>\n",
       "    </tr>\n",
       "    <tr>\n",
       "      <th>7061</th>\n",
       "      <td>Zimbabwe</td>\n",
       "      <td>ZWE</td>\n",
       "      <td>2022</td>\n",
       "      <td>3323.1218</td>\n",
       "    </tr>\n",
       "    <tr>\n",
       "      <th>7062</th>\n",
       "      <td>Zimbabwe</td>\n",
       "      <td>ZWE</td>\n",
       "      <td>2023</td>\n",
       "      <td>3442.2512</td>\n",
       "    </tr>\n",
       "  </tbody>\n",
       "</table>\n",
       "<p>7063 rows × 4 columns</p>\n",
       "</div>"
      ],
      "text/plain": [
       "           Entity Code  Year  ny_gdp_pcap_pp_kd\n",
       "0     Afghanistan  AFG  2000          1617.8264\n",
       "1     Afghanistan  AFG  2001          1454.1108\n",
       "2     Afghanistan  AFG  2002          1774.3087\n",
       "3     Afghanistan  AFG  2003          1815.9282\n",
       "4     Afghanistan  AFG  2004          1776.9182\n",
       "...           ...  ...   ...                ...\n",
       "7058     Zimbabwe  ZWE  2019          3294.8062\n",
       "7059     Zimbabwe  ZWE  2020          2987.2698\n",
       "7060     Zimbabwe  ZWE  2021          3184.7854\n",
       "7061     Zimbabwe  ZWE  2022          3323.1218\n",
       "7062     Zimbabwe  ZWE  2023          3442.2512\n",
       "\n",
       "[7063 rows x 4 columns]"
      ]
     },
     "execution_count": 2,
     "metadata": {},
     "output_type": "execute_result"
    }
   ],
   "source": [
    "df"
   ]
  },
  {
   "cell_type": "code",
   "execution_count": 3,
   "id": "141359e9",
   "metadata": {},
   "outputs": [
    {
     "data": {
      "text/html": [
       "<div>\n",
       "<style scoped>\n",
       "    .dataframe tbody tr th:only-of-type {\n",
       "        vertical-align: middle;\n",
       "    }\n",
       "\n",
       "    .dataframe tbody tr th {\n",
       "        vertical-align: top;\n",
       "    }\n",
       "\n",
       "    .dataframe thead th {\n",
       "        text-align: right;\n",
       "    }\n",
       "</style>\n",
       "<table border=\"1\" class=\"dataframe\">\n",
       "  <thead>\n",
       "    <tr style=\"text-align: right;\">\n",
       "      <th></th>\n",
       "      <th>Entity</th>\n",
       "      <th>Code</th>\n",
       "      <th>Year</th>\n",
       "      <th>ny_gdp_pcap_pp_kd</th>\n",
       "    </tr>\n",
       "  </thead>\n",
       "  <tbody>\n",
       "    <tr>\n",
       "      <th>23</th>\n",
       "      <td>Afghanistan</td>\n",
       "      <td>AFG</td>\n",
       "      <td>2023</td>\n",
       "      <td>1992.4244</td>\n",
       "    </tr>\n",
       "    <tr>\n",
       "      <th>57</th>\n",
       "      <td>Albania</td>\n",
       "      <td>ALB</td>\n",
       "      <td>2023</td>\n",
       "      <td>18244.2930</td>\n",
       "    </tr>\n",
       "    <tr>\n",
       "      <th>91</th>\n",
       "      <td>Algeria</td>\n",
       "      <td>DZA</td>\n",
       "      <td>2023</td>\n",
       "      <td>15159.3240</td>\n",
       "    </tr>\n",
       "    <tr>\n",
       "      <th>125</th>\n",
       "      <td>Andorra</td>\n",
       "      <td>AND</td>\n",
       "      <td>2023</td>\n",
       "      <td>64631.2970</td>\n",
       "    </tr>\n",
       "    <tr>\n",
       "      <th>159</th>\n",
       "      <td>Angola</td>\n",
       "      <td>AGO</td>\n",
       "      <td>2023</td>\n",
       "      <td>7244.8930</td>\n",
       "    </tr>\n",
       "    <tr>\n",
       "      <th>...</th>\n",
       "      <td>...</td>\n",
       "      <td>...</td>\n",
       "      <td>...</td>\n",
       "      <td>...</td>\n",
       "    </tr>\n",
       "    <tr>\n",
       "      <th>6926</th>\n",
       "      <td>Vanuatu</td>\n",
       "      <td>VUT</td>\n",
       "      <td>2023</td>\n",
       "      <td>3118.3960</td>\n",
       "    </tr>\n",
       "    <tr>\n",
       "      <th>6960</th>\n",
       "      <td>Vietnam</td>\n",
       "      <td>VNM</td>\n",
       "      <td>2023</td>\n",
       "      <td>13491.8800</td>\n",
       "    </tr>\n",
       "    <tr>\n",
       "      <th>6994</th>\n",
       "      <td>World</td>\n",
       "      <td>OWID_WRL</td>\n",
       "      <td>2023</td>\n",
       "      <td>20670.9410</td>\n",
       "    </tr>\n",
       "    <tr>\n",
       "      <th>7028</th>\n",
       "      <td>Zambia</td>\n",
       "      <td>ZMB</td>\n",
       "      <td>2023</td>\n",
       "      <td>3673.4841</td>\n",
       "    </tr>\n",
       "    <tr>\n",
       "      <th>7062</th>\n",
       "      <td>Zimbabwe</td>\n",
       "      <td>ZWE</td>\n",
       "      <td>2023</td>\n",
       "      <td>3442.2512</td>\n",
       "    </tr>\n",
       "  </tbody>\n",
       "</table>\n",
       "<p>206 rows × 4 columns</p>\n",
       "</div>"
      ],
      "text/plain": [
       "           Entity      Code  Year  ny_gdp_pcap_pp_kd\n",
       "23    Afghanistan       AFG  2023          1992.4244\n",
       "57        Albania       ALB  2023         18244.2930\n",
       "91        Algeria       DZA  2023         15159.3240\n",
       "125       Andorra       AND  2023         64631.2970\n",
       "159        Angola       AGO  2023          7244.8930\n",
       "...           ...       ...   ...                ...\n",
       "6926      Vanuatu       VUT  2023          3118.3960\n",
       "6960      Vietnam       VNM  2023         13491.8800\n",
       "6994        World  OWID_WRL  2023         20670.9410\n",
       "7028       Zambia       ZMB  2023          3673.4841\n",
       "7062     Zimbabwe       ZWE  2023          3442.2512\n",
       "\n",
       "[206 rows x 4 columns]"
      ]
     },
     "execution_count": 3,
     "metadata": {},
     "output_type": "execute_result"
    }
   ],
   "source": [
    "df2=df[df[\"Year\"]==2023]\n",
    "df2"
   ]
  },
  {
   "cell_type": "code",
   "execution_count": 4,
   "id": "29475716",
   "metadata": {},
   "outputs": [
    {
     "data": {
      "text/html": [
       "<div>\n",
       "<style scoped>\n",
       "    .dataframe tbody tr th:only-of-type {\n",
       "        vertical-align: middle;\n",
       "    }\n",
       "\n",
       "    .dataframe tbody tr th {\n",
       "        vertical-align: top;\n",
       "    }\n",
       "\n",
       "    .dataframe thead th {\n",
       "        text-align: right;\n",
       "    }\n",
       "</style>\n",
       "<table border=\"1\" class=\"dataframe\">\n",
       "  <thead>\n",
       "    <tr style=\"text-align: right;\">\n",
       "      <th></th>\n",
       "      <th>STRUCTURE</th>\n",
       "      <th>STRUCTURE_ID</th>\n",
       "      <th>STRUCTURE_NAME</th>\n",
       "      <th>ACTION</th>\n",
       "      <th>LOCATION</th>\n",
       "      <th>Country</th>\n",
       "      <th>INDICATOR</th>\n",
       "      <th>Indicator</th>\n",
       "      <th>MEASURE</th>\n",
       "      <th>Measure</th>\n",
       "      <th>...</th>\n",
       "      <th>OBS_VALUE</th>\n",
       "      <th>Observation Value</th>\n",
       "      <th>OBS_STATUS</th>\n",
       "      <th>Observation Status</th>\n",
       "      <th>UNIT_MEASURE</th>\n",
       "      <th>Unit of Measures</th>\n",
       "      <th>UNIT_MULT</th>\n",
       "      <th>Multiplier</th>\n",
       "      <th>BASE_PER</th>\n",
       "      <th>Base reference period</th>\n",
       "    </tr>\n",
       "  </thead>\n",
       "  <tbody>\n",
       "    <tr>\n",
       "      <th>0</th>\n",
       "      <td>DATAFLOW</td>\n",
       "      <td>OECD:DF_BLI(1.0)</td>\n",
       "      <td>Better Life Index</td>\n",
       "      <td>I</td>\n",
       "      <td>AUT</td>\n",
       "      <td>Austria</td>\n",
       "      <td>JE_LMIS</td>\n",
       "      <td>Labour market insecurity</td>\n",
       "      <td>L</td>\n",
       "      <td>Value</td>\n",
       "      <td>...</td>\n",
       "      <td>2.3</td>\n",
       "      <td>NaN</td>\n",
       "      <td>A</td>\n",
       "      <td>NaN</td>\n",
       "      <td>PC</td>\n",
       "      <td>Percentage</td>\n",
       "      <td>0</td>\n",
       "      <td>Units</td>\n",
       "      <td>NaN</td>\n",
       "      <td>NaN</td>\n",
       "    </tr>\n",
       "    <tr>\n",
       "      <th>1</th>\n",
       "      <td>DATAFLOW</td>\n",
       "      <td>OECD:DF_BLI(1.0)</td>\n",
       "      <td>Better Life Index</td>\n",
       "      <td>I</td>\n",
       "      <td>BEL</td>\n",
       "      <td>Belgium</td>\n",
       "      <td>JE_LMIS</td>\n",
       "      <td>Labour market insecurity</td>\n",
       "      <td>L</td>\n",
       "      <td>Value</td>\n",
       "      <td>...</td>\n",
       "      <td>2.4</td>\n",
       "      <td>NaN</td>\n",
       "      <td>A</td>\n",
       "      <td>NaN</td>\n",
       "      <td>PC</td>\n",
       "      <td>Percentage</td>\n",
       "      <td>0</td>\n",
       "      <td>Units</td>\n",
       "      <td>NaN</td>\n",
       "      <td>NaN</td>\n",
       "    </tr>\n",
       "    <tr>\n",
       "      <th>2</th>\n",
       "      <td>DATAFLOW</td>\n",
       "      <td>OECD:DF_BLI(1.0)</td>\n",
       "      <td>Better Life Index</td>\n",
       "      <td>I</td>\n",
       "      <td>CAN</td>\n",
       "      <td>Canada</td>\n",
       "      <td>JE_LMIS</td>\n",
       "      <td>Labour market insecurity</td>\n",
       "      <td>L</td>\n",
       "      <td>Value</td>\n",
       "      <td>...</td>\n",
       "      <td>3.8</td>\n",
       "      <td>NaN</td>\n",
       "      <td>A</td>\n",
       "      <td>NaN</td>\n",
       "      <td>PC</td>\n",
       "      <td>Percentage</td>\n",
       "      <td>0</td>\n",
       "      <td>Units</td>\n",
       "      <td>NaN</td>\n",
       "      <td>NaN</td>\n",
       "    </tr>\n",
       "    <tr>\n",
       "      <th>3</th>\n",
       "      <td>DATAFLOW</td>\n",
       "      <td>OECD:DF_BLI(1.0)</td>\n",
       "      <td>Better Life Index</td>\n",
       "      <td>I</td>\n",
       "      <td>CZE</td>\n",
       "      <td>Czechia</td>\n",
       "      <td>JE_LMIS</td>\n",
       "      <td>Labour market insecurity</td>\n",
       "      <td>L</td>\n",
       "      <td>Value</td>\n",
       "      <td>...</td>\n",
       "      <td>2.3</td>\n",
       "      <td>NaN</td>\n",
       "      <td>A</td>\n",
       "      <td>NaN</td>\n",
       "      <td>PC</td>\n",
       "      <td>Percentage</td>\n",
       "      <td>0</td>\n",
       "      <td>Units</td>\n",
       "      <td>NaN</td>\n",
       "      <td>NaN</td>\n",
       "    </tr>\n",
       "    <tr>\n",
       "      <th>4</th>\n",
       "      <td>DATAFLOW</td>\n",
       "      <td>OECD:DF_BLI(1.0)</td>\n",
       "      <td>Better Life Index</td>\n",
       "      <td>I</td>\n",
       "      <td>DNK</td>\n",
       "      <td>Denmark</td>\n",
       "      <td>JE_LMIS</td>\n",
       "      <td>Labour market insecurity</td>\n",
       "      <td>L</td>\n",
       "      <td>Value</td>\n",
       "      <td>...</td>\n",
       "      <td>4.5</td>\n",
       "      <td>NaN</td>\n",
       "      <td>A</td>\n",
       "      <td>NaN</td>\n",
       "      <td>PC</td>\n",
       "      <td>Percentage</td>\n",
       "      <td>0</td>\n",
       "      <td>Units</td>\n",
       "      <td>NaN</td>\n",
       "      <td>NaN</td>\n",
       "    </tr>\n",
       "    <tr>\n",
       "      <th>...</th>\n",
       "      <td>...</td>\n",
       "      <td>...</td>\n",
       "      <td>...</td>\n",
       "      <td>...</td>\n",
       "      <td>...</td>\n",
       "      <td>...</td>\n",
       "      <td>...</td>\n",
       "      <td>...</td>\n",
       "      <td>...</td>\n",
       "      <td>...</td>\n",
       "      <td>...</td>\n",
       "      <td>...</td>\n",
       "      <td>...</td>\n",
       "      <td>...</td>\n",
       "      <td>...</td>\n",
       "      <td>...</td>\n",
       "      <td>...</td>\n",
       "      <td>...</td>\n",
       "      <td>...</td>\n",
       "      <td>...</td>\n",
       "      <td>...</td>\n",
       "    </tr>\n",
       "    <tr>\n",
       "      <th>2364</th>\n",
       "      <td>DATAFLOW</td>\n",
       "      <td>OECD:DF_BLI(1.0)</td>\n",
       "      <td>Better Life Index</td>\n",
       "      <td>I</td>\n",
       "      <td>CRI</td>\n",
       "      <td>Costa Rica</td>\n",
       "      <td>HS_LEB</td>\n",
       "      <td>Life expectancy</td>\n",
       "      <td>L</td>\n",
       "      <td>Value</td>\n",
       "      <td>...</td>\n",
       "      <td>77.9</td>\n",
       "      <td>NaN</td>\n",
       "      <td>A</td>\n",
       "      <td>NaN</td>\n",
       "      <td>YR</td>\n",
       "      <td>Years</td>\n",
       "      <td>0</td>\n",
       "      <td>Units</td>\n",
       "      <td>NaN</td>\n",
       "      <td>NaN</td>\n",
       "    </tr>\n",
       "    <tr>\n",
       "      <th>2365</th>\n",
       "      <td>DATAFLOW</td>\n",
       "      <td>OECD:DF_BLI(1.0)</td>\n",
       "      <td>Better Life Index</td>\n",
       "      <td>I</td>\n",
       "      <td>CRI</td>\n",
       "      <td>Costa Rica</td>\n",
       "      <td>HS_LEB</td>\n",
       "      <td>Life expectancy</td>\n",
       "      <td>L</td>\n",
       "      <td>Value</td>\n",
       "      <td>...</td>\n",
       "      <td>83.0</td>\n",
       "      <td>NaN</td>\n",
       "      <td>A</td>\n",
       "      <td>NaN</td>\n",
       "      <td>YR</td>\n",
       "      <td>Years</td>\n",
       "      <td>0</td>\n",
       "      <td>Units</td>\n",
       "      <td>NaN</td>\n",
       "      <td>NaN</td>\n",
       "    </tr>\n",
       "    <tr>\n",
       "      <th>2366</th>\n",
       "      <td>DATAFLOW</td>\n",
       "      <td>OECD:DF_BLI(1.0)</td>\n",
       "      <td>Better Life Index</td>\n",
       "      <td>I</td>\n",
       "      <td>CRI</td>\n",
       "      <td>Costa Rica</td>\n",
       "      <td>PS_REPH</td>\n",
       "      <td>Homicide rate</td>\n",
       "      <td>L</td>\n",
       "      <td>Value</td>\n",
       "      <td>...</td>\n",
       "      <td>10.0</td>\n",
       "      <td>NaN</td>\n",
       "      <td>A</td>\n",
       "      <td>NaN</td>\n",
       "      <td>RATIO</td>\n",
       "      <td>Ratio</td>\n",
       "      <td>0</td>\n",
       "      <td>Units</td>\n",
       "      <td>NaN</td>\n",
       "      <td>NaN</td>\n",
       "    </tr>\n",
       "    <tr>\n",
       "      <th>2367</th>\n",
       "      <td>DATAFLOW</td>\n",
       "      <td>OECD:DF_BLI(1.0)</td>\n",
       "      <td>Better Life Index</td>\n",
       "      <td>I</td>\n",
       "      <td>CRI</td>\n",
       "      <td>Costa Rica</td>\n",
       "      <td>PS_REPH</td>\n",
       "      <td>Homicide rate</td>\n",
       "      <td>L</td>\n",
       "      <td>Value</td>\n",
       "      <td>...</td>\n",
       "      <td>18.2</td>\n",
       "      <td>NaN</td>\n",
       "      <td>A</td>\n",
       "      <td>NaN</td>\n",
       "      <td>RATIO</td>\n",
       "      <td>Ratio</td>\n",
       "      <td>0</td>\n",
       "      <td>Units</td>\n",
       "      <td>NaN</td>\n",
       "      <td>NaN</td>\n",
       "    </tr>\n",
       "    <tr>\n",
       "      <th>2368</th>\n",
       "      <td>DATAFLOW</td>\n",
       "      <td>OECD:DF_BLI(1.0)</td>\n",
       "      <td>Better Life Index</td>\n",
       "      <td>I</td>\n",
       "      <td>CRI</td>\n",
       "      <td>Costa Rica</td>\n",
       "      <td>PS_REPH</td>\n",
       "      <td>Homicide rate</td>\n",
       "      <td>L</td>\n",
       "      <td>Value</td>\n",
       "      <td>...</td>\n",
       "      <td>1.8</td>\n",
       "      <td>NaN</td>\n",
       "      <td>A</td>\n",
       "      <td>NaN</td>\n",
       "      <td>RATIO</td>\n",
       "      <td>Ratio</td>\n",
       "      <td>0</td>\n",
       "      <td>Units</td>\n",
       "      <td>NaN</td>\n",
       "      <td>NaN</td>\n",
       "    </tr>\n",
       "  </tbody>\n",
       "</table>\n",
       "<p>2369 rows × 22 columns</p>\n",
       "</div>"
      ],
      "text/plain": [
       "     STRUCTURE      STRUCTURE_ID     STRUCTURE_NAME ACTION LOCATION  \\\n",
       "0     DATAFLOW  OECD:DF_BLI(1.0)  Better Life Index      I      AUT   \n",
       "1     DATAFLOW  OECD:DF_BLI(1.0)  Better Life Index      I      BEL   \n",
       "2     DATAFLOW  OECD:DF_BLI(1.0)  Better Life Index      I      CAN   \n",
       "3     DATAFLOW  OECD:DF_BLI(1.0)  Better Life Index      I      CZE   \n",
       "4     DATAFLOW  OECD:DF_BLI(1.0)  Better Life Index      I      DNK   \n",
       "...        ...               ...                ...    ...      ...   \n",
       "2364  DATAFLOW  OECD:DF_BLI(1.0)  Better Life Index      I      CRI   \n",
       "2365  DATAFLOW  OECD:DF_BLI(1.0)  Better Life Index      I      CRI   \n",
       "2366  DATAFLOW  OECD:DF_BLI(1.0)  Better Life Index      I      CRI   \n",
       "2367  DATAFLOW  OECD:DF_BLI(1.0)  Better Life Index      I      CRI   \n",
       "2368  DATAFLOW  OECD:DF_BLI(1.0)  Better Life Index      I      CRI   \n",
       "\n",
       "         Country INDICATOR                 Indicator MEASURE Measure  ...  \\\n",
       "0        Austria   JE_LMIS  Labour market insecurity       L   Value  ...   \n",
       "1        Belgium   JE_LMIS  Labour market insecurity       L   Value  ...   \n",
       "2         Canada   JE_LMIS  Labour market insecurity       L   Value  ...   \n",
       "3        Czechia   JE_LMIS  Labour market insecurity       L   Value  ...   \n",
       "4        Denmark   JE_LMIS  Labour market insecurity       L   Value  ...   \n",
       "...          ...       ...                       ...     ...     ...  ...   \n",
       "2364  Costa Rica    HS_LEB           Life expectancy       L   Value  ...   \n",
       "2365  Costa Rica    HS_LEB           Life expectancy       L   Value  ...   \n",
       "2366  Costa Rica   PS_REPH             Homicide rate       L   Value  ...   \n",
       "2367  Costa Rica   PS_REPH             Homicide rate       L   Value  ...   \n",
       "2368  Costa Rica   PS_REPH             Homicide rate       L   Value  ...   \n",
       "\n",
       "     OBS_VALUE  Observation Value  OBS_STATUS  Observation Status  \\\n",
       "0          2.3                NaN           A                 NaN   \n",
       "1          2.4                NaN           A                 NaN   \n",
       "2          3.8                NaN           A                 NaN   \n",
       "3          2.3                NaN           A                 NaN   \n",
       "4          4.5                NaN           A                 NaN   \n",
       "...        ...                ...         ...                 ...   \n",
       "2364      77.9                NaN           A                 NaN   \n",
       "2365      83.0                NaN           A                 NaN   \n",
       "2366      10.0                NaN           A                 NaN   \n",
       "2367      18.2                NaN           A                 NaN   \n",
       "2368       1.8                NaN           A                 NaN   \n",
       "\n",
       "     UNIT_MEASURE  Unit of Measures UNIT_MULT Multiplier  BASE_PER  \\\n",
       "0              PC        Percentage         0      Units       NaN   \n",
       "1              PC        Percentage         0      Units       NaN   \n",
       "2              PC        Percentage         0      Units       NaN   \n",
       "3              PC        Percentage         0      Units       NaN   \n",
       "4              PC        Percentage         0      Units       NaN   \n",
       "...           ...               ...       ...        ...       ...   \n",
       "2364           YR             Years         0      Units       NaN   \n",
       "2365           YR             Years         0      Units       NaN   \n",
       "2366        RATIO             Ratio         0      Units       NaN   \n",
       "2367        RATIO             Ratio         0      Units       NaN   \n",
       "2368        RATIO             Ratio         0      Units       NaN   \n",
       "\n",
       "     Base reference period  \n",
       "0                      NaN  \n",
       "1                      NaN  \n",
       "2                      NaN  \n",
       "3                      NaN  \n",
       "4                      NaN  \n",
       "...                    ...  \n",
       "2364                   NaN  \n",
       "2365                   NaN  \n",
       "2366                   NaN  \n",
       "2367                   NaN  \n",
       "2368                   NaN  \n",
       "\n",
       "[2369 rows x 22 columns]"
      ]
     },
     "execution_count": 4,
     "metadata": {},
     "output_type": "execute_result"
    }
   ],
   "source": [
    "datos=pd.read_csv(\"OECD,DF_BLI.csv\")\n",
    "datos"
   ]
  },
  {
   "cell_type": "code",
   "execution_count": 5,
   "id": "cd8982b1",
   "metadata": {},
   "outputs": [
    {
     "data": {
      "text/plain": [
       "np.float64(37.0)"
      ]
     },
     "execution_count": 5,
     "metadata": {},
     "output_type": "execute_result"
    }
   ],
   "source": [
    "valor_japon = datos[\n",
    "    (datos[\"Indicator\"] == \"Self-reported health\") &\n",
    "    (datos[\"LOCATION\"] == \"JPN\")\n",
    "][\"OBS_VALUE\"].values[0]\n",
    "\n",
    "valor_japon"
   ]
  },
  {
   "cell_type": "code",
   "execution_count": 12,
   "id": "8db893d9",
   "metadata": {},
   "outputs": [
    {
     "data": {
      "text/html": [
       "<div>\n",
       "<style scoped>\n",
       "    .dataframe tbody tr th:only-of-type {\n",
       "        vertical-align: middle;\n",
       "    }\n",
       "\n",
       "    .dataframe tbody tr th {\n",
       "        vertical-align: top;\n",
       "    }\n",
       "\n",
       "    .dataframe thead th {\n",
       "        text-align: right;\n",
       "    }\n",
       "</style>\n",
       "<table border=\"1\" class=\"dataframe\">\n",
       "  <thead>\n",
       "    <tr style=\"text-align: right;\">\n",
       "      <th></th>\n",
       "      <th>Country</th>\n",
       "      <th>Jobs</th>\n",
       "      <th>Housing</th>\n",
       "      <th>Safety</th>\n",
       "      <th>Community</th>\n",
       "      <th>Education</th>\n",
       "      <th>Environment</th>\n",
       "      <th>Civic Engagement</th>\n",
       "      <th>Health</th>\n",
       "      <th>Work-Life Balance</th>\n",
       "      <th>Life Satisfaction</th>\n",
       "      <th>Income</th>\n",
       "    </tr>\n",
       "  </thead>\n",
       "  <tbody>\n",
       "    <tr>\n",
       "      <th>0</th>\n",
       "      <td>Australia</td>\n",
       "      <td>0.858945</td>\n",
       "      <td>0.629921</td>\n",
       "      <td>0.766243</td>\n",
       "      <td>0.761538</td>\n",
       "      <td>0.768147</td>\n",
       "      <td>0.871572</td>\n",
       "      <td>0.875000</td>\n",
       "      <td>0.861567</td>\n",
       "      <td>0.408961</td>\n",
       "      <td>0.680952</td>\n",
       "      <td>0.596762</td>\n",
       "    </tr>\n",
       "    <tr>\n",
       "      <th>1</th>\n",
       "      <td>Austria</td>\n",
       "      <td>0.846546</td>\n",
       "      <td>0.624134</td>\n",
       "      <td>0.905345</td>\n",
       "      <td>0.730769</td>\n",
       "      <td>0.617556</td>\n",
       "      <td>0.805379</td>\n",
       "      <td>0.354787</td>\n",
       "      <td>0.713646</td>\n",
       "      <td>0.553274</td>\n",
       "      <td>0.709524</td>\n",
       "      <td>0.464477</td>\n",
       "    </tr>\n",
       "    <tr>\n",
       "      <th>2</th>\n",
       "      <td>Belgium</td>\n",
       "      <td>0.780398</td>\n",
       "      <td>0.750226</td>\n",
       "      <td>0.683707</td>\n",
       "      <td>0.623077</td>\n",
       "      <td>0.701194</td>\n",
       "      <td>0.555268</td>\n",
       "      <td>0.657447</td>\n",
       "      <td>0.729331</td>\n",
       "      <td>0.719235</td>\n",
       "      <td>0.614286</td>\n",
       "      <td>0.519196</td>\n",
       "    </tr>\n",
       "    <tr>\n",
       "      <th>3</th>\n",
       "      <td>Brazil</td>\n",
       "      <td>0.500000</td>\n",
       "      <td>0.813370</td>\n",
       "      <td>0.417698</td>\n",
       "      <td>0.423077</td>\n",
       "      <td>0.250418</td>\n",
       "      <td>0.400557</td>\n",
       "      <td>0.622340</td>\n",
       "      <td>0.567164</td>\n",
       "      <td>0.835866</td>\n",
       "      <td>0.480952</td>\n",
       "      <td>NaN</td>\n",
       "    </tr>\n",
       "    <tr>\n",
       "      <th>4</th>\n",
       "      <td>Canada</td>\n",
       "      <td>0.843819</td>\n",
       "      <td>0.782920</td>\n",
       "      <td>0.839247</td>\n",
       "      <td>0.738462</td>\n",
       "      <td>0.716491</td>\n",
       "      <td>0.835173</td>\n",
       "      <td>0.669681</td>\n",
       "      <td>0.863726</td>\n",
       "      <td>0.589823</td>\n",
       "      <td>0.652381</td>\n",
       "      <td>0.531429</td>\n",
       "    </tr>\n",
       "    <tr>\n",
       "      <th>5</th>\n",
       "      <td>Chile</td>\n",
       "      <td>0.470416</td>\n",
       "      <td>0.669774</td>\n",
       "      <td>0.560185</td>\n",
       "      <td>0.584615</td>\n",
       "      <td>0.441528</td>\n",
       "      <td>0.113127</td>\n",
       "      <td>0.046277</td>\n",
       "      <td>0.598561</td>\n",
       "      <td>0.777102</td>\n",
       "      <td>0.476190</td>\n",
       "      <td>0.065600</td>\n",
       "    </tr>\n",
       "    <tr>\n",
       "      <th>6</th>\n",
       "      <td>Colombia</td>\n",
       "      <td>0.732016</td>\n",
       "      <td>0.328691</td>\n",
       "      <td>0.413457</td>\n",
       "      <td>0.315385</td>\n",
       "      <td>0.184756</td>\n",
       "      <td>0.500028</td>\n",
       "      <td>0.135106</td>\n",
       "      <td>0.718523</td>\n",
       "      <td>0.303951</td>\n",
       "      <td>0.400000</td>\n",
       "      <td>NaN</td>\n",
       "    </tr>\n",
       "    <tr>\n",
       "      <th>7</th>\n",
       "      <td>Costa Rica</td>\n",
       "      <td>0.689132</td>\n",
       "      <td>0.626610</td>\n",
       "      <td>0.529237</td>\n",
       "      <td>0.400000</td>\n",
       "      <td>0.192476</td>\n",
       "      <td>0.664437</td>\n",
       "      <td>0.373404</td>\n",
       "      <td>0.714019</td>\n",
       "      <td>0.368794</td>\n",
       "      <td>0.528571</td>\n",
       "      <td>0.171709</td>\n",
       "    </tr>\n",
       "    <tr>\n",
       "      <th>8</th>\n",
       "      <td>Czechia</td>\n",
       "      <td>0.819596</td>\n",
       "      <td>0.537844</td>\n",
       "      <td>0.842087</td>\n",
       "      <td>0.869231</td>\n",
       "      <td>0.693662</td>\n",
       "      <td>0.708333</td>\n",
       "      <td>0.280851</td>\n",
       "      <td>0.592404</td>\n",
       "      <td>0.869301</td>\n",
       "      <td>0.652381</td>\n",
       "      <td>0.414408</td>\n",
       "    </tr>\n",
       "    <tr>\n",
       "      <th>9</th>\n",
       "      <td>Denmark</td>\n",
       "      <td>0.866818</td>\n",
       "      <td>0.623802</td>\n",
       "      <td>0.902564</td>\n",
       "      <td>0.807692</td>\n",
       "      <td>0.717738</td>\n",
       "      <td>0.848523</td>\n",
       "      <td>0.625532</td>\n",
       "      <td>0.698188</td>\n",
       "      <td>0.969605</td>\n",
       "      <td>0.766667</td>\n",
       "      <td>0.333200</td>\n",
       "    </tr>\n",
       "    <tr>\n",
       "      <th>10</th>\n",
       "      <td>Estonia</td>\n",
       "      <td>0.792022</td>\n",
       "      <td>0.699208</td>\n",
       "      <td>0.850121</td>\n",
       "      <td>0.800000</td>\n",
       "      <td>0.755570</td>\n",
       "      <td>0.764883</td>\n",
       "      <td>0.577128</td>\n",
       "      <td>0.531370</td>\n",
       "      <td>0.672188</td>\n",
       "      <td>0.523810</td>\n",
       "      <td>0.236215</td>\n",
       "    </tr>\n",
       "    <tr>\n",
       "      <th>11</th>\n",
       "      <td>Finland</td>\n",
       "      <td>0.835640</td>\n",
       "      <td>0.629980</td>\n",
       "      <td>0.915227</td>\n",
       "      <td>0.884615</td>\n",
       "      <td>0.818541</td>\n",
       "      <td>0.974359</td>\n",
       "      <td>0.505319</td>\n",
       "      <td>0.684688</td>\n",
       "      <td>0.680661</td>\n",
       "      <td>0.885714</td>\n",
       "      <td>0.376082</td>\n",
       "    </tr>\n",
       "    <tr>\n",
       "      <th>12</th>\n",
       "      <td>France</td>\n",
       "      <td>0.746503</td>\n",
       "      <td>0.671210</td>\n",
       "      <td>0.820223</td>\n",
       "      <td>0.800000</td>\n",
       "      <td>0.597520</td>\n",
       "      <td>0.557664</td>\n",
       "      <td>0.544149</td>\n",
       "      <td>0.678491</td>\n",
       "      <td>0.772704</td>\n",
       "      <td>0.590476</td>\n",
       "      <td>0.426692</td>\n",
       "    </tr>\n",
       "    <tr>\n",
       "      <th>13</th>\n",
       "      <td>Germany</td>\n",
       "      <td>0.888233</td>\n",
       "      <td>0.693297</td>\n",
       "      <td>0.835590</td>\n",
       "      <td>0.623077</td>\n",
       "      <td>0.692493</td>\n",
       "      <td>0.794732</td>\n",
       "      <td>0.479787</td>\n",
       "      <td>0.648108</td>\n",
       "      <td>0.748384</td>\n",
       "      <td>0.738095</td>\n",
       "      <td>0.484950</td>\n",
       "    </tr>\n",
       "    <tr>\n",
       "      <th>14</th>\n",
       "      <td>Greece</td>\n",
       "      <td>0.383049</td>\n",
       "      <td>0.518268</td>\n",
       "      <td>0.777836</td>\n",
       "      <td>0.207692</td>\n",
       "      <td>0.572105</td>\n",
       "      <td>0.312430</td>\n",
       "      <td>0.288298</td>\n",
       "      <td>0.788486</td>\n",
       "      <td>0.653619</td>\n",
       "      <td>0.385714</td>\n",
       "      <td>0.177040</td>\n",
       "    </tr>\n",
       "    <tr>\n",
       "      <th>15</th>\n",
       "      <td>Hungary</td>\n",
       "      <td>0.759104</td>\n",
       "      <td>0.581019</td>\n",
       "      <td>0.815593</td>\n",
       "      <td>0.792308</td>\n",
       "      <td>0.565404</td>\n",
       "      <td>0.551338</td>\n",
       "      <td>0.265957</td>\n",
       "      <td>0.521469</td>\n",
       "      <td>0.693589</td>\n",
       "      <td>0.452381</td>\n",
       "      <td>0.180995</td>\n",
       "    </tr>\n",
       "    <tr>\n",
       "      <th>16</th>\n",
       "      <td>Iceland</td>\n",
       "      <td>0.939522</td>\n",
       "      <td>0.687500</td>\n",
       "      <td>0.901241</td>\n",
       "      <td>0.942308</td>\n",
       "      <td>0.623846</td>\n",
       "      <td>0.970987</td>\n",
       "      <td>0.607979</td>\n",
       "      <td>0.773761</td>\n",
       "      <td>0.652482</td>\n",
       "      <td>0.791667</td>\n",
       "      <td>NaN</td>\n",
       "    </tr>\n",
       "    <tr>\n",
       "      <th>17</th>\n",
       "      <td>Ireland</td>\n",
       "      <td>0.811360</td>\n",
       "      <td>0.739121</td>\n",
       "      <td>0.837049</td>\n",
       "      <td>0.853846</td>\n",
       "      <td>0.705878</td>\n",
       "      <td>0.628846</td>\n",
       "      <td>0.216489</td>\n",
       "      <td>0.830197</td>\n",
       "      <td>0.562918</td>\n",
       "      <td>0.661905</td>\n",
       "      <td>0.409842</td>\n",
       "    </tr>\n",
       "    <tr>\n",
       "      <th>18</th>\n",
       "      <td>Israel</td>\n",
       "      <td>0.785896</td>\n",
       "      <td>0.125000</td>\n",
       "      <td>0.853427</td>\n",
       "      <td>0.823077</td>\n",
       "      <td>0.521368</td>\n",
       "      <td>0.435396</td>\n",
       "      <td>0.559043</td>\n",
       "      <td>0.782063</td>\n",
       "      <td>0.573455</td>\n",
       "      <td>0.704762</td>\n",
       "      <td>NaN</td>\n",
       "    </tr>\n",
       "    <tr>\n",
       "      <th>19</th>\n",
       "      <td>Italy</td>\n",
       "      <td>0.612056</td>\n",
       "      <td>0.539705</td>\n",
       "      <td>0.812208</td>\n",
       "      <td>0.600000</td>\n",
       "      <td>0.465620</td>\n",
       "      <td>0.489521</td>\n",
       "      <td>0.622872</td>\n",
       "      <td>0.757463</td>\n",
       "      <td>0.859054</td>\n",
       "      <td>0.557143</td>\n",
       "      <td>0.365467</td>\n",
       "    </tr>\n",
       "    <tr>\n",
       "      <th>20</th>\n",
       "      <td>Japan</td>\n",
       "      <td>0.857015</td>\n",
       "      <td>0.608391</td>\n",
       "      <td>0.844596</td>\n",
       "      <td>0.584615</td>\n",
       "      <td>0.563295</td>\n",
       "      <td>0.699331</td>\n",
       "      <td>0.135106</td>\n",
       "      <td>0.432090</td>\n",
       "      <td>0.138462</td>\n",
       "      <td>0.447619</td>\n",
       "      <td>0.358616</td>\n",
       "    </tr>\n",
       "    <tr>\n",
       "      <th>21</th>\n",
       "      <td>Korea</td>\n",
       "      <td>0.799026</td>\n",
       "      <td>0.747621</td>\n",
       "      <td>0.875408</td>\n",
       "      <td>0.261538</td>\n",
       "      <td>0.715371</td>\n",
       "      <td>0.455351</td>\n",
       "      <td>0.765426</td>\n",
       "      <td>0.393017</td>\n",
       "      <td>0.353846</td>\n",
       "      <td>0.366667</td>\n",
       "      <td>0.346625</td>\n",
       "    </tr>\n",
       "    <tr>\n",
       "      <th>22</th>\n",
       "      <td>Latvia</td>\n",
       "      <td>0.749769</td>\n",
       "      <td>0.444236</td>\n",
       "      <td>0.781921</td>\n",
       "      <td>0.715385</td>\n",
       "      <td>0.674846</td>\n",
       "      <td>0.639688</td>\n",
       "      <td>0.356383</td>\n",
       "      <td>0.407090</td>\n",
       "      <td>0.952381</td>\n",
       "      <td>0.466667</td>\n",
       "      <td>0.124913</td>\n",
       "    </tr>\n",
       "    <tr>\n",
       "      <th>23</th>\n",
       "      <td>Lithuania</td>\n",
       "      <td>0.750304</td>\n",
       "      <td>0.564157</td>\n",
       "      <td>0.713936</td>\n",
       "      <td>0.615385</td>\n",
       "      <td>0.682372</td>\n",
       "      <td>0.657191</td>\n",
       "      <td>0.427660</td>\n",
       "      <td>0.412540</td>\n",
       "      <td>0.973658</td>\n",
       "      <td>0.528571</td>\n",
       "      <td>0.270566</td>\n",
       "    </tr>\n",
       "    <tr>\n",
       "      <th>24</th>\n",
       "      <td>Luxembourg</td>\n",
       "      <td>0.835129</td>\n",
       "      <td>0.716591</td>\n",
       "      <td>0.915344</td>\n",
       "      <td>0.661538</td>\n",
       "      <td>0.454313</td>\n",
       "      <td>0.701087</td>\n",
       "      <td>0.603723</td>\n",
       "      <td>0.720336</td>\n",
       "      <td>0.919959</td>\n",
       "      <td>0.752381</td>\n",
       "      <td>0.923772</td>\n",
       "    </tr>\n",
       "    <tr>\n",
       "      <th>25</th>\n",
       "      <td>Mexico</td>\n",
       "      <td>0.688415</td>\n",
       "      <td>0.365652</td>\n",
       "      <td>0.320320</td>\n",
       "      <td>0.207692</td>\n",
       "      <td>0.178661</td>\n",
       "      <td>0.396823</td>\n",
       "      <td>0.691489</td>\n",
       "      <td>0.559133</td>\n",
       "      <td>0.218845</td>\n",
       "      <td>0.457143</td>\n",
       "      <td>0.165778</td>\n",
       "    </tr>\n",
       "    <tr>\n",
       "      <th>26</th>\n",
       "      <td>Netherlands</td>\n",
       "      <td>0.907609</td>\n",
       "      <td>0.745463</td>\n",
       "      <td>0.887197</td>\n",
       "      <td>0.784615</td>\n",
       "      <td>0.694953</td>\n",
       "      <td>0.798969</td>\n",
       "      <td>0.711702</td>\n",
       "      <td>0.739659</td>\n",
       "      <td>0.782095</td>\n",
       "      <td>0.771429</td>\n",
       "      <td>0.404947</td>\n",
       "    </tr>\n",
       "    <tr>\n",
       "      <th>27</th>\n",
       "      <td>New Zealand</td>\n",
       "      <td>0.864007</td>\n",
       "      <td>0.531988</td>\n",
       "      <td>0.755252</td>\n",
       "      <td>0.800000</td>\n",
       "      <td>0.661091</td>\n",
       "      <td>0.738155</td>\n",
       "      <td>0.718617</td>\n",
       "      <td>0.847655</td>\n",
       "      <td>0.445671</td>\n",
       "      <td>0.704762</td>\n",
       "      <td>0.607316</td>\n",
       "    </tr>\n",
       "    <tr>\n",
       "      <th>28</th>\n",
       "      <td>Norway</td>\n",
       "      <td>0.878399</td>\n",
       "      <td>0.817093</td>\n",
       "      <td>0.960726</td>\n",
       "      <td>0.846154</td>\n",
       "      <td>0.670965</td>\n",
       "      <td>0.986957</td>\n",
       "      <td>0.601064</td>\n",
       "      <td>0.756676</td>\n",
       "      <td>0.794083</td>\n",
       "      <td>0.714286</td>\n",
       "      <td>0.466159</td>\n",
       "    </tr>\n",
       "    <tr>\n",
       "      <th>29</th>\n",
       "      <td>OECD - Total</td>\n",
       "      <td>0.780958</td>\n",
       "      <td>0.632414</td>\n",
       "      <td>0.798397</td>\n",
       "      <td>0.676923</td>\n",
       "      <td>0.610754</td>\n",
       "      <td>0.644788</td>\n",
       "      <td>0.480319</td>\n",
       "      <td>0.671082</td>\n",
       "      <td>0.562877</td>\n",
       "      <td>0.590476</td>\n",
       "      <td>0.394920</td>\n",
       "    </tr>\n",
       "    <tr>\n",
       "      <th>30</th>\n",
       "      <td>Poland</td>\n",
       "      <td>0.771265</td>\n",
       "      <td>0.495541</td>\n",
       "      <td>0.799623</td>\n",
       "      <td>0.792308</td>\n",
       "      <td>0.737648</td>\n",
       "      <td>0.510674</td>\n",
       "      <td>0.594681</td>\n",
       "      <td>0.559928</td>\n",
       "      <td>0.591511</td>\n",
       "      <td>0.452381</td>\n",
       "      <td>0.260780</td>\n",
       "    </tr>\n",
       "    <tr>\n",
       "      <th>31</th>\n",
       "      <td>Portugal</td>\n",
       "      <td>0.717446</td>\n",
       "      <td>0.675535</td>\n",
       "      <td>0.886204</td>\n",
       "      <td>0.600000</td>\n",
       "      <td>0.484918</td>\n",
       "      <td>0.802899</td>\n",
       "      <td>0.117553</td>\n",
       "      <td>0.519776</td>\n",
       "      <td>0.830800</td>\n",
       "      <td>0.409524</td>\n",
       "      <td>0.287965</td>\n",
       "    </tr>\n",
       "    <tr>\n",
       "      <th>32</th>\n",
       "      <td>Russia</td>\n",
       "      <td>0.843928</td>\n",
       "      <td>0.467667</td>\n",
       "      <td>0.704832</td>\n",
       "      <td>0.600000</td>\n",
       "      <td>0.612147</td>\n",
       "      <td>0.232804</td>\n",
       "      <td>0.489362</td>\n",
       "      <td>0.364161</td>\n",
       "      <td>0.998987</td>\n",
       "      <td>0.290476</td>\n",
       "      <td>0.244158</td>\n",
       "    </tr>\n",
       "    <tr>\n",
       "      <th>33</th>\n",
       "      <td>Slovak Republic</td>\n",
       "      <td>0.677760</td>\n",
       "      <td>0.340239</td>\n",
       "      <td>0.833742</td>\n",
       "      <td>0.815385</td>\n",
       "      <td>0.537936</td>\n",
       "      <td>0.538183</td>\n",
       "      <td>0.673404</td>\n",
       "      <td>0.604877</td>\n",
       "      <td>0.878419</td>\n",
       "      <td>0.542857</td>\n",
       "      <td>0.194723</td>\n",
       "    </tr>\n",
       "    <tr>\n",
       "      <th>34</th>\n",
       "      <td>Slovenia</td>\n",
       "      <td>0.779565</td>\n",
       "      <td>0.697946</td>\n",
       "      <td>0.940651</td>\n",
       "      <td>0.807692</td>\n",
       "      <td>0.722246</td>\n",
       "      <td>0.772436</td>\n",
       "      <td>0.410106</td>\n",
       "      <td>0.656730</td>\n",
       "      <td>0.836879</td>\n",
       "      <td>0.517857</td>\n",
       "      <td>0.279653</td>\n",
       "    </tr>\n",
       "    <tr>\n",
       "      <th>35</th>\n",
       "      <td>South Africa</td>\n",
       "      <td>0.144349</td>\n",
       "      <td>0.366142</td>\n",
       "      <td>0.438084</td>\n",
       "      <td>0.623077</td>\n",
       "      <td>0.172414</td>\n",
       "      <td>0.250000</td>\n",
       "      <td>0.446809</td>\n",
       "      <td>0.130597</td>\n",
       "      <td>0.542047</td>\n",
       "      <td>0.180952</td>\n",
       "      <td>0.000000</td>\n",
       "    </tr>\n",
       "    <tr>\n",
       "      <th>36</th>\n",
       "      <td>Spain</td>\n",
       "      <td>0.592509</td>\n",
       "      <td>0.667654</td>\n",
       "      <td>0.864146</td>\n",
       "      <td>0.769231</td>\n",
       "      <td>0.501232</td>\n",
       "      <td>0.528010</td>\n",
       "      <td>0.437234</td>\n",
       "      <td>0.781770</td>\n",
       "      <td>0.779930</td>\n",
       "      <td>0.561905</td>\n",
       "      <td>0.379733</td>\n",
       "    </tr>\n",
       "    <tr>\n",
       "      <th>37</th>\n",
       "      <td>Sweden</td>\n",
       "      <td>0.848651</td>\n",
       "      <td>0.670768</td>\n",
       "      <td>0.851035</td>\n",
       "      <td>0.769231</td>\n",
       "      <td>0.747409</td>\n",
       "      <td>0.983919</td>\n",
       "      <td>0.646809</td>\n",
       "      <td>0.769723</td>\n",
       "      <td>0.975684</td>\n",
       "      <td>0.723810</td>\n",
       "      <td>0.583415</td>\n",
       "    </tr>\n",
       "    <tr>\n",
       "      <th>38</th>\n",
       "      <td>Switzerland</td>\n",
       "      <td>0.920951</td>\n",
       "      <td>0.678314</td>\n",
       "      <td>0.909450</td>\n",
       "      <td>0.776923</td>\n",
       "      <td>0.656688</td>\n",
       "      <td>0.905128</td>\n",
       "      <td>0.275000</td>\n",
       "      <td>0.821988</td>\n",
       "      <td>0.991895</td>\n",
       "      <td>0.761905</td>\n",
       "      <td>0.726136</td>\n",
       "    </tr>\n",
       "    <tr>\n",
       "      <th>39</th>\n",
       "      <td>Türkiye</td>\n",
       "      <td>0.555335</td>\n",
       "      <td>0.510934</td>\n",
       "      <td>0.701856</td>\n",
       "      <td>0.476923</td>\n",
       "      <td>0.423714</td>\n",
       "      <td>0.072910</td>\n",
       "      <td>0.511170</td>\n",
       "      <td>0.632609</td>\n",
       "      <td>0.265002</td>\n",
       "      <td>0.176190</td>\n",
       "      <td>NaN</td>\n",
       "    </tr>\n",
       "    <tr>\n",
       "      <th>40</th>\n",
       "      <td>United Kingdom</td>\n",
       "      <td>0.857395</td>\n",
       "      <td>0.647260</td>\n",
       "      <td>0.854731</td>\n",
       "      <td>0.723077</td>\n",
       "      <td>0.627785</td>\n",
       "      <td>0.642308</td>\n",
       "      <td>0.719681</td>\n",
       "      <td>0.716351</td>\n",
       "      <td>0.535848</td>\n",
       "      <td>0.609524</td>\n",
       "      <td>0.541812</td>\n",
       "    </tr>\n",
       "    <tr>\n",
       "      <th>41</th>\n",
       "      <td>United States</td>\n",
       "      <td>0.854207</td>\n",
       "      <td>0.862917</td>\n",
       "      <td>0.796860</td>\n",
       "      <td>0.769231</td>\n",
       "      <td>0.686362</td>\n",
       "      <td>0.783779</td>\n",
       "      <td>0.687766</td>\n",
       "      <td>0.797055</td>\n",
       "      <td>0.483959</td>\n",
       "      <td>0.666667</td>\n",
       "      <td>0.851110</td>\n",
       "    </tr>\n",
       "  </tbody>\n",
       "</table>\n",
       "</div>"
      ],
      "text/plain": [
       "            Country      Jobs   Housing    Safety  Community  Education  \\\n",
       "0         Australia  0.858945  0.629921  0.766243   0.761538   0.768147   \n",
       "1           Austria  0.846546  0.624134  0.905345   0.730769   0.617556   \n",
       "2           Belgium  0.780398  0.750226  0.683707   0.623077   0.701194   \n",
       "3            Brazil  0.500000  0.813370  0.417698   0.423077   0.250418   \n",
       "4            Canada  0.843819  0.782920  0.839247   0.738462   0.716491   \n",
       "5             Chile  0.470416  0.669774  0.560185   0.584615   0.441528   \n",
       "6          Colombia  0.732016  0.328691  0.413457   0.315385   0.184756   \n",
       "7        Costa Rica  0.689132  0.626610  0.529237   0.400000   0.192476   \n",
       "8           Czechia  0.819596  0.537844  0.842087   0.869231   0.693662   \n",
       "9           Denmark  0.866818  0.623802  0.902564   0.807692   0.717738   \n",
       "10          Estonia  0.792022  0.699208  0.850121   0.800000   0.755570   \n",
       "11          Finland  0.835640  0.629980  0.915227   0.884615   0.818541   \n",
       "12           France  0.746503  0.671210  0.820223   0.800000   0.597520   \n",
       "13          Germany  0.888233  0.693297  0.835590   0.623077   0.692493   \n",
       "14           Greece  0.383049  0.518268  0.777836   0.207692   0.572105   \n",
       "15          Hungary  0.759104  0.581019  0.815593   0.792308   0.565404   \n",
       "16          Iceland  0.939522  0.687500  0.901241   0.942308   0.623846   \n",
       "17          Ireland  0.811360  0.739121  0.837049   0.853846   0.705878   \n",
       "18           Israel  0.785896  0.125000  0.853427   0.823077   0.521368   \n",
       "19            Italy  0.612056  0.539705  0.812208   0.600000   0.465620   \n",
       "20            Japan  0.857015  0.608391  0.844596   0.584615   0.563295   \n",
       "21            Korea  0.799026  0.747621  0.875408   0.261538   0.715371   \n",
       "22           Latvia  0.749769  0.444236  0.781921   0.715385   0.674846   \n",
       "23        Lithuania  0.750304  0.564157  0.713936   0.615385   0.682372   \n",
       "24       Luxembourg  0.835129  0.716591  0.915344   0.661538   0.454313   \n",
       "25           Mexico  0.688415  0.365652  0.320320   0.207692   0.178661   \n",
       "26      Netherlands  0.907609  0.745463  0.887197   0.784615   0.694953   \n",
       "27      New Zealand  0.864007  0.531988  0.755252   0.800000   0.661091   \n",
       "28           Norway  0.878399  0.817093  0.960726   0.846154   0.670965   \n",
       "29     OECD - Total  0.780958  0.632414  0.798397   0.676923   0.610754   \n",
       "30           Poland  0.771265  0.495541  0.799623   0.792308   0.737648   \n",
       "31         Portugal  0.717446  0.675535  0.886204   0.600000   0.484918   \n",
       "32           Russia  0.843928  0.467667  0.704832   0.600000   0.612147   \n",
       "33  Slovak Republic  0.677760  0.340239  0.833742   0.815385   0.537936   \n",
       "34         Slovenia  0.779565  0.697946  0.940651   0.807692   0.722246   \n",
       "35     South Africa  0.144349  0.366142  0.438084   0.623077   0.172414   \n",
       "36            Spain  0.592509  0.667654  0.864146   0.769231   0.501232   \n",
       "37           Sweden  0.848651  0.670768  0.851035   0.769231   0.747409   \n",
       "38      Switzerland  0.920951  0.678314  0.909450   0.776923   0.656688   \n",
       "39          Türkiye  0.555335  0.510934  0.701856   0.476923   0.423714   \n",
       "40   United Kingdom  0.857395  0.647260  0.854731   0.723077   0.627785   \n",
       "41    United States  0.854207  0.862917  0.796860   0.769231   0.686362   \n",
       "\n",
       "    Environment  Civic Engagement    Health  Work-Life Balance  \\\n",
       "0      0.871572          0.875000  0.861567           0.408961   \n",
       "1      0.805379          0.354787  0.713646           0.553274   \n",
       "2      0.555268          0.657447  0.729331           0.719235   \n",
       "3      0.400557          0.622340  0.567164           0.835866   \n",
       "4      0.835173          0.669681  0.863726           0.589823   \n",
       "5      0.113127          0.046277  0.598561           0.777102   \n",
       "6      0.500028          0.135106  0.718523           0.303951   \n",
       "7      0.664437          0.373404  0.714019           0.368794   \n",
       "8      0.708333          0.280851  0.592404           0.869301   \n",
       "9      0.848523          0.625532  0.698188           0.969605   \n",
       "10     0.764883          0.577128  0.531370           0.672188   \n",
       "11     0.974359          0.505319  0.684688           0.680661   \n",
       "12     0.557664          0.544149  0.678491           0.772704   \n",
       "13     0.794732          0.479787  0.648108           0.748384   \n",
       "14     0.312430          0.288298  0.788486           0.653619   \n",
       "15     0.551338          0.265957  0.521469           0.693589   \n",
       "16     0.970987          0.607979  0.773761           0.652482   \n",
       "17     0.628846          0.216489  0.830197           0.562918   \n",
       "18     0.435396          0.559043  0.782063           0.573455   \n",
       "19     0.489521          0.622872  0.757463           0.859054   \n",
       "20     0.699331          0.135106  0.432090           0.138462   \n",
       "21     0.455351          0.765426  0.393017           0.353846   \n",
       "22     0.639688          0.356383  0.407090           0.952381   \n",
       "23     0.657191          0.427660  0.412540           0.973658   \n",
       "24     0.701087          0.603723  0.720336           0.919959   \n",
       "25     0.396823          0.691489  0.559133           0.218845   \n",
       "26     0.798969          0.711702  0.739659           0.782095   \n",
       "27     0.738155          0.718617  0.847655           0.445671   \n",
       "28     0.986957          0.601064  0.756676           0.794083   \n",
       "29     0.644788          0.480319  0.671082           0.562877   \n",
       "30     0.510674          0.594681  0.559928           0.591511   \n",
       "31     0.802899          0.117553  0.519776           0.830800   \n",
       "32     0.232804          0.489362  0.364161           0.998987   \n",
       "33     0.538183          0.673404  0.604877           0.878419   \n",
       "34     0.772436          0.410106  0.656730           0.836879   \n",
       "35     0.250000          0.446809  0.130597           0.542047   \n",
       "36     0.528010          0.437234  0.781770           0.779930   \n",
       "37     0.983919          0.646809  0.769723           0.975684   \n",
       "38     0.905128          0.275000  0.821988           0.991895   \n",
       "39     0.072910          0.511170  0.632609           0.265002   \n",
       "40     0.642308          0.719681  0.716351           0.535848   \n",
       "41     0.783779          0.687766  0.797055           0.483959   \n",
       "\n",
       "    Life Satisfaction    Income  \n",
       "0            0.680952  0.596762  \n",
       "1            0.709524  0.464477  \n",
       "2            0.614286  0.519196  \n",
       "3            0.480952       NaN  \n",
       "4            0.652381  0.531429  \n",
       "5            0.476190  0.065600  \n",
       "6            0.400000       NaN  \n",
       "7            0.528571  0.171709  \n",
       "8            0.652381  0.414408  \n",
       "9            0.766667  0.333200  \n",
       "10           0.523810  0.236215  \n",
       "11           0.885714  0.376082  \n",
       "12           0.590476  0.426692  \n",
       "13           0.738095  0.484950  \n",
       "14           0.385714  0.177040  \n",
       "15           0.452381  0.180995  \n",
       "16           0.791667       NaN  \n",
       "17           0.661905  0.409842  \n",
       "18           0.704762       NaN  \n",
       "19           0.557143  0.365467  \n",
       "20           0.447619  0.358616  \n",
       "21           0.366667  0.346625  \n",
       "22           0.466667  0.124913  \n",
       "23           0.528571  0.270566  \n",
       "24           0.752381  0.923772  \n",
       "25           0.457143  0.165778  \n",
       "26           0.771429  0.404947  \n",
       "27           0.704762  0.607316  \n",
       "28           0.714286  0.466159  \n",
       "29           0.590476  0.394920  \n",
       "30           0.452381  0.260780  \n",
       "31           0.409524  0.287965  \n",
       "32           0.290476  0.244158  \n",
       "33           0.542857  0.194723  \n",
       "34           0.517857  0.279653  \n",
       "35           0.180952  0.000000  \n",
       "36           0.561905  0.379733  \n",
       "37           0.723810  0.583415  \n",
       "38           0.761905  0.726136  \n",
       "39           0.176190       NaN  \n",
       "40           0.609524  0.541812  \n",
       "41           0.666667  0.851110  "
      ]
     },
     "execution_count": 12,
     "metadata": {},
     "output_type": "execute_result"
    }
   ],
   "source": [
    "\n",
    "indicadores_negativos = [\n",
    "    'Air pollution',\n",
    "    'Dwellings without basic facilities',\n",
    "    'Employees working very long hours',\n",
    "    'Homicide rate',\n",
    "    'Housing expenditure',\n",
    "    'Labour market insecurity',\n",
    "    'Long-term unemployment rate'\n",
    "]\n",
    "\n",
    "datos_filtrados = datos[[\"Country\", \"Indicator\", \"OBS_VALUE\", \"INDICATOR\"]].dropna()\n",
    "\n",
    "def obtener_dominio(codigo):\n",
    "    if codigo.startswith(\"HO_\"):\n",
    "        return \"Housing\"\n",
    "    elif codigo.startswith(\"JE_\"):\n",
    "        return \"Jobs\"\n",
    "    elif codigo.startswith(\"EQ_\"):\n",
    "        return \"Environment\"\n",
    "    elif codigo.startswith(\"HS_\"):\n",
    "        return \"Health\"\n",
    "    elif codigo.startswith(\"ES_\"):\n",
    "        return \"Education\"\n",
    "    elif codigo.startswith(\"SC_\"):\n",
    "        return \"Community\"\n",
    "    elif codigo.startswith(\"PS_\"):\n",
    "        return \"Safety\"\n",
    "    elif codigo.startswith(\"SW_\"):\n",
    "        return \"Life Satisfaction\"\n",
    "    elif codigo.startswith(\"WL_\"):\n",
    "        return \"Work-Life Balance\"\n",
    "    elif codigo.startswith(\"CG_\"):\n",
    "        return \"Civic Engagement\"\n",
    "    elif codigo.startswith(\"IW_\"):\n",
    "        return \"Income\"\n",
    "    else:\n",
    "        return \"otros\"\n",
    "\n",
    "datos_filtrados[\"Domain\"] = datos_filtrados[\"INDICATOR\"].apply(obtener_dominio)\n",
    "\n",
    "promedios_finales = []\n",
    "\n",
    "for dominio in datos_filtrados[\"Domain\"].unique():\n",
    "    subset_dominio = datos_filtrados[datos_filtrados[\"Domain\"] == dominio]\n",
    "    indicadores_norm = []\n",
    "\n",
    "    for indicador in subset_dominio[\"Indicator\"].unique():\n",
    "        sub = subset_dominio[subset_dominio[\"Indicator\"] == indicador].copy()\n",
    "        min_val = sub[\"OBS_VALUE\"].min()\n",
    "        max_val = sub[\"OBS_VALUE\"].max()\n",
    "\n",
    "        if indicador in indicadores_negativos:\n",
    "            sub[\"normalized\"] = 1 - (sub[\"OBS_VALUE\"] - min_val) / (max_val - min_val)\n",
    "        else:\n",
    "            sub[\"normalized\"] = (sub[\"OBS_VALUE\"] - min_val) / (max_val - min_val)\n",
    "\n",
    "        indicadores_norm.append(sub[[\"Country\", \"normalized\"]])\n",
    "\n",
    "    \n",
    "    combinado = pd.concat(indicadores_norm)\n",
    "    promedio_dominio = combinado.groupby(\"Country\")[\"normalized\"].mean().reset_index()\n",
    "    promedio_dominio.columns = [\"Country\", dominio]\n",
    "\n",
    "    promedios_finales.append(promedio_dominio)\n",
    "\n",
    "df_promedios_por_dominio = promedios_finales[0]\n",
    "for df in promedios_finales[1:]:\n",
    "    df_promedios_por_dominio = df_promedios_por_dominio.merge(df, on=\"Country\", how=\"outer\")\n",
    "\n",
    "\n",
    "df_promedios_por_dominio\n",
    "\n"
   ]
  },
  {
   "cell_type": "code",
   "execution_count": 7,
   "id": "4c44ce2c",
   "metadata": {},
   "outputs": [
    {
     "data": {
      "application/vnd.plotly.v1+json": {
       "config": {
        "plotlyServerURL": "https://plot.ly"
       },
       "data": [
        {
         "hovertemplate": "<b>%{hovertext}</b><br><br>Country=Australia<br>Income=%{x}<br>Life Satisfaction=%{y}<br>Health=%{marker.size}<extra></extra>",
         "hovertext": [
          "Australia"
         ],
         "legendgroup": "Australia",
         "marker": {
          "color": "#636efa",
          "size": {
           "bdata": "bJ0uTfWR6z8=",
           "dtype": "f8"
          },
          "sizemode": "area",
          "sizeref": 0.0005398287579957356,
          "symbol": "circle"
         },
         "mode": "markers",
         "name": "Australia",
         "orientation": "v",
         "showlegend": true,
         "type": "scatter",
         "x": {
          "bdata": "Cp9dsqsY4z8=",
          "dtype": "f8"
         },
         "xaxis": "x",
         "y": {
          "bdata": "plzKpVzK5T8=",
          "dtype": "f8"
         },
         "yaxis": "y"
        },
        {
         "hovertemplate": "<b>%{hovertext}</b><br><br>Country=Austria<br>Income=%{x}<br>Life Satisfaction=%{y}<br>Health=%{marker.size}<extra></extra>",
         "hovertext": [
          "Austria"
         ],
         "legendgroup": "Austria",
         "marker": {
          "color": "#EF553B",
          "size": {
           "bdata": "KrKgQDDW5j8=",
           "dtype": "f8"
          },
          "sizemode": "area",
          "sizeref": 0.0005398287579957356,
          "symbol": "circle"
         },
         "mode": "markers",
         "name": "Austria",
         "orientation": "v",
         "showlegend": true,
         "type": "scatter",
         "x": {
          "bdata": "qCSI+vy53T8=",
          "dtype": "f8"
         },
         "xaxis": "x",
         "y": {
          "bdata": "Rmu0Rmu05j8=",
          "dtype": "f8"
         },
         "yaxis": "y"
        },
        {
         "hovertemplate": "<b>%{hovertext}</b><br><br>Country=Belgium<br>Income=%{x}<br>Life Satisfaction=%{y}<br>Health=%{marker.size}<extra></extra>",
         "hovertext": [
          "Belgium"
         ],
         "legendgroup": "Belgium",
         "marker": {
          "color": "#00cc96",
          "size": {
           "bdata": "vjO2A65W5z8=",
           "dtype": "f8"
          },
          "sizemode": "area",
          "sizeref": 0.0005398287579957356,
          "symbol": "circle"
         },
         "mode": "markers",
         "name": "Belgium",
         "orientation": "v",
         "showlegend": true,
         "type": "scatter",
         "x": {
          "bdata": "ggeW9ECd4D8=",
          "dtype": "f8"
         },
         "xaxis": "x",
         "y": {
          "bdata": "hDqogzqo4z8=",
          "dtype": "f8"
         },
         "yaxis": "y"
        },
        {
         "hovertemplate": "<b>%{hovertext}</b><br><br>Country=Brazil<br>Income=%{x}<br>Life Satisfaction=%{y}<br>Health=%{marker.size}<extra></extra>",
         "hovertext": [
          "Brazil"
         ],
         "legendgroup": "Brazil",
         "marker": {
          "color": "#ab63fa",
          "size": {
           "bdata": "5ewWfjUm4j8=",
           "dtype": "f8"
          },
          "sizemode": "area",
          "sizeref": 0.0005398287579957356,
          "symbol": "circle"
         },
         "mode": "markers",
         "name": "Brazil",
         "orientation": "v",
         "showlegend": true,
         "type": "scatter",
         "x": {
          "bdata": "AAAAAAAA+H8=",
          "dtype": "f8"
         },
         "xaxis": "x",
         "y": {
          "bdata": "gOzHfuzH3j8=",
          "dtype": "f8"
         },
         "yaxis": "y"
        },
        {
         "hovertemplate": "<b>%{hovertext}</b><br><br>Country=Canada<br>Income=%{x}<br>Life Satisfaction=%{y}<br>Health=%{marker.size}<extra></extra>",
         "hovertext": [
          "Canada"
         ],
         "legendgroup": "Canada",
         "marker": {
          "color": "#FFA15A",
          "size": {
           "bdata": "aNY0vKSj6z8=",
           "dtype": "f8"
          },
          "sizemode": "area",
          "sizeref": 0.0005398287579957356,
          "symbol": "circle"
         },
         "mode": "markers",
         "name": "Canada",
         "orientation": "v",
         "showlegend": true,
         "type": "scatter",
         "x": {
          "bdata": "oSX4zncB4T8=",
          "dtype": "f8"
         },
         "xaxis": "x",
         "y": {
          "bdata": "Bk7gBE7g5D8=",
          "dtype": "f8"
         },
         "yaxis": "y"
        },
        {
         "hovertemplate": "<b>%{hovertext}</b><br><br>Country=Chile<br>Income=%{x}<br>Life Satisfaction=%{y}<br>Health=%{marker.size}<extra></extra>",
         "hovertext": [
          "Chile"
         ],
         "legendgroup": "Chile",
         "marker": {
          "color": "#19d3f3",
          "size": {
           "bdata": "Ng0v6Wgn4z8=",
           "dtype": "f8"
          },
          "sizemode": "area",
          "sizeref": 0.0005398287579957356,
          "symbol": "circle"
         },
         "mode": "markers",
         "name": "Chile",
         "orientation": "v",
         "showlegend": true,
         "type": "scatter",
         "x": {
          "bdata": "v0V3Ii7LsD8=",
          "dtype": "f8"
         },
         "xaxis": "x",
         "y": {
          "bdata": "nud5nud53j8=",
          "dtype": "f8"
         },
         "yaxis": "y"
        },
        {
         "hovertemplate": "<b>%{hovertext}</b><br><br>Country=Colombia<br>Income=%{x}<br>Life Satisfaction=%{y}<br>Health=%{marker.size}<extra></extra>",
         "hovertext": [
          "Colombia"
         ],
         "legendgroup": "Colombia",
         "marker": {
          "color": "#FF6692",
          "size": {
           "bdata": "Pogg5iT+5j8=",
           "dtype": "f8"
          },
          "sizemode": "area",
          "sizeref": 0.0005398287579957356,
          "symbol": "circle"
         },
         "mode": "markers",
         "name": "Colombia",
         "orientation": "v",
         "showlegend": true,
         "type": "scatter",
         "x": {
          "bdata": "AAAAAAAA+H8=",
          "dtype": "f8"
         },
         "xaxis": "x",
         "y": {
          "bdata": "m5mZmZmZ2T8=",
          "dtype": "f8"
         },
         "yaxis": "y"
        },
        {
         "hovertemplate": "<b>%{hovertext}</b><br><br>Country=Costa Rica<br>Income=%{x}<br>Life Satisfaction=%{y}<br>Health=%{marker.size}<extra></extra>",
         "hovertext": [
          "Costa Rica"
         ],
         "legendgroup": "Costa Rica",
         "marker": {
          "color": "#B6E880",
          "size": {
           "bdata": "PEqYxT7Z5j8=",
           "dtype": "f8"
          },
          "sizemode": "area",
          "sizeref": 0.0005398287579957356,
          "symbol": "circle"
         },
         "mode": "markers",
         "name": "Costa Rica",
         "orientation": "v",
         "showlegend": true,
         "type": "scatter",
         "x": {
          "bdata": "KGnKL5P6xT8=",
          "dtype": "f8"
         },
         "xaxis": "x",
         "y": {
          "bdata": "oQ7qoA7q4D8=",
          "dtype": "f8"
         },
         "yaxis": "y"
        },
        {
         "hovertemplate": "<b>%{hovertext}</b><br><br>Country=Czechia<br>Income=%{x}<br>Life Satisfaction=%{y}<br>Health=%{marker.size}<extra></extra>",
         "hovertext": [
          "Czechia"
         ],
         "legendgroup": "Czechia",
         "marker": {
          "color": "#FF97FF",
          "size": {
           "bdata": "B8A5V/n04j8=",
           "dtype": "f8"
          },
          "sizemode": "area",
          "sizeref": 0.0005398287579957356,
          "symbol": "circle"
         },
         "mode": "markers",
         "name": "Czechia",
         "orientation": "v",
         "showlegend": true,
         "type": "scatter",
         "x": {
          "bdata": "YkDduqqF2j8=",
          "dtype": "f8"
         },
         "xaxis": "x",
         "y": {
          "bdata": "Bk7gBE7g5D8=",
          "dtype": "f8"
         },
         "yaxis": "y"
        },
        {
         "hovertemplate": "<b>%{hovertext}</b><br><br>Country=Denmark<br>Income=%{x}<br>Life Satisfaction=%{y}<br>Health=%{marker.size}<extra></extra>",
         "hovertext": [
          "Denmark"
         ],
         "legendgroup": "Denmark",
         "marker": {
          "color": "#FECB52",
          "size": {
           "bdata": "Vqhql41X5j8=",
           "dtype": "f8"
          },
          "sizemode": "area",
          "sizeref": 0.0005398287579957356,
          "symbol": "circle"
         },
         "mode": "markers",
         "name": "Denmark",
         "orientation": "v",
         "showlegend": true,
         "type": "scatter",
         "x": {
          "bdata": "DTG8+CVT1T8=",
          "dtype": "f8"
         },
         "xaxis": "x",
         "y": {
          "bdata": "iIiIiIiI6D8=",
          "dtype": "f8"
         },
         "yaxis": "y"
        },
        {
         "hovertemplate": "<b>%{hovertext}</b><br><br>Country=Estonia<br>Income=%{x}<br>Life Satisfaction=%{y}<br>Health=%{marker.size}<extra></extra>",
         "hovertext": [
          "Estonia"
         ],
         "legendgroup": "Estonia",
         "marker": {
          "color": "#636efa",
          "size": {
           "bdata": "KgMrhvsA4T8=",
           "dtype": "f8"
          },
          "sizemode": "area",
          "sizeref": 0.0005398287579957356,
          "symbol": "circle"
         },
         "mode": "markers",
         "name": "Estonia",
         "orientation": "v",
         "showlegend": true,
         "type": "scatter",
         "x": {
          "bdata": "AIWPm0c8zj8=",
          "dtype": "f8"
         },
         "xaxis": "x",
         "y": {
          "bdata": "MQzDMAzD4D8=",
          "dtype": "f8"
         },
         "yaxis": "y"
        },
        {
         "hovertemplate": "<b>%{hovertext}</b><br><br>Country=Finland<br>Income=%{x}<br>Life Satisfaction=%{y}<br>Health=%{marker.size}<extra></extra>",
         "hovertext": [
          "Finland"
         ],
         "legendgroup": "Finland",
         "marker": {
          "color": "#EF553B",
          "size": {
           "bdata": "43xIKPfo5T8=",
           "dtype": "f8"
          },
          "sizemode": "area",
          "sizeref": 0.0005398287579957356,
          "symbol": "circle"
         },
         "mode": "markers",
         "name": "Finland",
         "orientation": "v",
         "showlegend": true,
         "type": "scatter",
         "x": {
          "bdata": "9NEjL7oR2D8=",
          "dtype": "f8"
         },
         "xaxis": "x",
         "y": {
          "bdata": "fcVXfMVX7D8=",
          "dtype": "f8"
         },
         "yaxis": "y"
        },
        {
         "hovertemplate": "<b>%{hovertext}</b><br><br>Country=France<br>Income=%{x}<br>Life Satisfaction=%{y}<br>Health=%{marker.size}<extra></extra>",
         "hovertext": [
          "France"
         ],
         "legendgroup": "France",
         "marker": {
          "color": "#00cc96",
          "size": {
           "bdata": "/IPvvjO25T8=",
           "dtype": "f8"
          },
          "sizemode": "area",
          "sizeref": 0.0005398287579957356,
          "symbol": "circle"
         },
         "mode": "markers",
         "name": "France",
         "orientation": "v",
         "showlegend": true,
         "type": "scatter",
         "x": {
          "bdata": "GL+5hOxO2z8=",
          "dtype": "f8"
         },
         "xaxis": "x",
         "y": {
          "bdata": "Uy7lUi7l4j8=",
          "dtype": "f8"
         },
         "yaxis": "y"
        },
        {
         "hovertemplate": "<b>%{hovertext}</b><br><br>Country=Germany<br>Income=%{x}<br>Life Satisfaction=%{y}<br>Health=%{marker.size}<extra></extra>",
         "hovertext": [
          "Germany"
         ],
         "legendgroup": "Germany",
         "marker": {
          "color": "#ab63fa",
          "size": {
           "bdata": "TLcJT0y95D8=",
           "dtype": "f8"
          },
          "sizemode": "area",
          "sizeref": 0.0005398287579957356,
          "symbol": "circle"
         },
         "mode": "markers",
         "name": "Germany",
         "orientation": "v",
         "showlegend": true,
         "type": "scatter",
         "x": {
          "bdata": "/EpSi2wJ3z8=",
          "dtype": "f8"
         },
         "xaxis": "x",
         "y": {
          "bdata": "6Hme53me5z8=",
          "dtype": "f8"
         },
         "yaxis": "y"
        },
        {
         "hovertemplate": "<b>%{hovertext}</b><br><br>Country=Greece<br>Income=%{x}<br>Life Satisfaction=%{y}<br>Health=%{marker.size}<extra></extra>",
         "hovertext": [
          "Greece"
         ],
         "legendgroup": "Greece",
         "marker": {
          "color": "#FFA15A",
          "size": {
           "bdata": "rWl4SUc76T8=",
           "dtype": "f8"
          },
          "sizemode": "area",
          "sizeref": 0.0005398287579957356,
          "symbol": "circle"
         },
         "mode": "markers",
         "name": "Greece",
         "orientation": "v",
         "showlegend": true,
         "type": "scatter",
         "x": {
          "bdata": "qBDUsEKpxj8=",
          "dtype": "f8"
         },
         "xaxis": "x",
         "y": {
          "bdata": "+Yqv+Iqv2D8=",
          "dtype": "f8"
         },
         "yaxis": "y"
        },
        {
         "hovertemplate": "<b>%{hovertext}</b><br><br>Country=Hungary<br>Income=%{x}<br>Life Satisfaction=%{y}<br>Health=%{marker.size}<extra></extra>",
         "hovertext": [
          "Hungary"
         ],
         "legendgroup": "Hungary",
         "marker": {
          "color": "#19d3f3",
          "size": {
           "bdata": "sTYT0N6v4D8=",
           "dtype": "f8"
          },
          "sizemode": "area",
          "sizeref": 0.0005398287579957356,
          "symbol": "circle"
         },
         "mode": "markers",
         "name": "Hungary",
         "orientation": "v",
         "showlegend": true,
         "type": "scatter",
         "x": {
          "bdata": "MUnjJNsqxz8=",
          "dtype": "f8"
         },
         "xaxis": "x",
         "y": {
          "bdata": "Pc/zPM/z3D8=",
          "dtype": "f8"
         },
         "yaxis": "y"
        },
        {
         "hovertemplate": "<b>%{hovertext}</b><br><br>Country=Iceland<br>Income=%{x}<br>Life Satisfaction=%{y}<br>Health=%{marker.size}<extra></extra>",
         "hovertext": [
          "Iceland"
         ],
         "legendgroup": "Iceland",
         "marker": {
          "color": "#FF6692",
          "size": {
           "bdata": "bAG7t6XC6D8=",
           "dtype": "f8"
          },
          "sizemode": "area",
          "sizeref": 0.0005398287579957356,
          "symbol": "circle"
         },
         "mode": "markers",
         "name": "Iceland",
         "orientation": "v",
         "showlegend": true,
         "type": "scatter",
         "x": {
          "bdata": "AAAAAAAA+H8=",
          "dtype": "f8"
         },
         "xaxis": "x",
         "y": {
          "bdata": "VVVVVVVV6T8=",
          "dtype": "f8"
         },
         "yaxis": "y"
        },
        {
         "hovertemplate": "<b>%{hovertext}</b><br><br>Country=Ireland<br>Income=%{x}<br>Life Satisfaction=%{y}<br>Health=%{marker.size}<extra></extra>",
         "hovertext": [
          "Ireland"
         ],
         "legendgroup": "Ireland",
         "marker": {
          "color": "#B6E880",
          "size": {
           "bdata": "QZoDx/mQ6j8=",
           "dtype": "f8"
          },
          "sizemode": "area",
          "sizeref": 0.0005398287579957356,
          "symbol": "circle"
         },
         "mode": "markers",
         "name": "Ireland",
         "orientation": "v",
         "showlegend": true,
         "type": "scatter",
         "x": {
          "bdata": "gkxfE9s62j8=",
          "dtype": "f8"
         },
         "xaxis": "x",
         "y": {
          "bdata": "5lIu5VIu5T8=",
          "dtype": "f8"
         },
         "yaxis": "y"
        },
        {
         "hovertemplate": "<b>%{hovertext}</b><br><br>Country=Israel<br>Income=%{x}<br>Life Satisfaction=%{y}<br>Health=%{marker.size}<extra></extra>",
         "hovertext": [
          "Israel"
         ],
         "legendgroup": "Israel",
         "marker": {
          "color": "#FF97FF",
          "size": {
           "bdata": "A/k/xqgG6T8=",
           "dtype": "f8"
          },
          "sizemode": "area",
          "sizeref": 0.0005398287579957356,
          "symbol": "circle"
         },
         "mode": "markers",
         "name": "Israel",
         "orientation": "v",
         "showlegend": true,
         "type": "scatter",
         "x": {
          "bdata": "AAAAAAAA+H8=",
          "dtype": "f8"
         },
         "xaxis": "x",
         "y": {
          "bdata": "12iN1miN5j8=",
          "dtype": "f8"
         },
         "yaxis": "y"
        },
        {
         "hovertemplate": "<b>%{hovertext}</b><br><br>Country=Italy<br>Income=%{x}<br>Life Satisfaction=%{y}<br>Health=%{marker.size}<extra></extra>",
         "hovertext": [
          "Italy"
         ],
         "legendgroup": "Italy",
         "marker": {
          "color": "#FECB52",
          "size": {
           "bdata": "b+FXYyI96D8=",
           "dtype": "f8"
          },
          "sizemode": "area",
          "sizeref": 0.0005398287579957356,
          "symbol": "circle"
         },
         "mode": "markers",
         "name": "Italy",
         "orientation": "v",
         "showlegend": true,
         "type": "scatter",
         "x": {
          "bdata": "3A5Ug85j1z8=",
          "dtype": "f8"
         },
         "xaxis": "x",
         "y": {
          "bdata": "Qh3UQR3U4T8=",
          "dtype": "f8"
         },
         "yaxis": "y"
        },
        {
         "hovertemplate": "<b>%{hovertext}</b><br><br>Country=Japan<br>Income=%{x}<br>Life Satisfaction=%{y}<br>Health=%{marker.size}<extra></extra>",
         "hovertext": [
          "Japan"
         ],
         "legendgroup": "Japan",
         "marker": {
          "color": "#636efa",
          "size": {
           "bdata": "7cXz71qn2z8=",
           "dtype": "f8"
          },
          "sizemode": "area",
          "sizeref": 0.0005398287579957356,
          "symbol": "circle"
         },
         "mode": "markers",
         "name": "Japan",
         "orientation": "v",
         "showlegend": true,
         "type": "scatter",
         "x": {
          "bdata": "LY3hdpHz1j8=",
          "dtype": "f8"
         },
         "xaxis": "x",
         "y": {
          "bdata": "XcqlXMql3D8=",
          "dtype": "f8"
         },
         "yaxis": "y"
        },
        {
         "hovertemplate": "<b>%{hovertext}</b><br><br>Country=Korea<br>Income=%{x}<br>Life Satisfaction=%{y}<br>Health=%{marker.size}<extra></extra>",
         "hovertext": [
          "Korea"
         ],
         "legendgroup": "Korea",
         "marker": {
          "color": "#EF553B",
          "size": {
           "bdata": "D/BBBDEn2T8=",
           "dtype": "f8"
          },
          "sizemode": "area",
          "sizeref": 0.0005398287579957356,
          "symbol": "circle"
         },
         "mode": "markers",
         "name": "Korea",
         "orientation": "v",
         "showlegend": true,
         "type": "scatter",
         "x": {
          "bdata": "YNNAfRov1j8=",
          "dtype": "f8"
         },
         "xaxis": "x",
         "y": {
          "bdata": "eHd3d3d31z8=",
          "dtype": "f8"
         },
         "yaxis": "y"
        },
        {
         "hovertemplate": "<b>%{hovertext}</b><br><br>Country=Latvia<br>Income=%{x}<br>Life Satisfaction=%{y}<br>Health=%{marker.size}<extra></extra>",
         "hovertext": [
          "Latvia"
         ],
         "legendgroup": "Latvia",
         "marker": {
          "color": "#00cc96",
          "size": {
           "bdata": "UixaVsEN2j8=",
           "dtype": "f8"
          },
          "sizemode": "area",
          "sizeref": 0.0005398287579957356,
          "symbol": "circle"
         },
         "mode": "markers",
         "name": "Latvia",
         "orientation": "v",
         "showlegend": true,
         "type": "scatter",
         "x": {
          "bdata": "qALuWVH6vz8=",
          "dtype": "f8"
         },
         "xaxis": "x",
         "y": {
          "bdata": "3t3d3d3d3T8=",
          "dtype": "f8"
         },
         "yaxis": "y"
        },
        {
         "hovertemplate": "<b>%{hovertext}</b><br><br>Country=Lithuania<br>Income=%{x}<br>Life Satisfaction=%{y}<br>Health=%{marker.size}<extra></extra>",
         "hovertext": [
          "Lithuania"
         ],
         "legendgroup": "Lithuania",
         "marker": {
          "color": "#ab63fa",
          "size": {
           "bdata": "2L0tFQ5n2j8=",
           "dtype": "f8"
          },
          "sizemode": "area",
          "sizeref": 0.0005398287579957356,
          "symbol": "circle"
         },
         "mode": "markers",
         "name": "Lithuania",
         "orientation": "v",
         "showlegend": true,
         "type": "scatter",
         "x": {
          "bdata": "vQDBDfZQ0T8=",
          "dtype": "f8"
         },
         "xaxis": "x",
         "y": {
          "bdata": "og7qoA7q4D8=",
          "dtype": "f8"
         },
         "yaxis": "y"
        },
        {
         "hovertemplate": "<b>%{hovertext}</b><br><br>Country=Luxembourg<br>Income=%{x}<br>Life Satisfaction=%{y}<br>Health=%{marker.size}<extra></extra>",
         "hovertext": [
          "Luxembourg"
         ],
         "legendgroup": "Luxembourg",
         "marker": {
          "color": "#FFA15A",
          "size": {
           "bdata": "TkYctf0M5z8=",
           "dtype": "f8"
          },
          "sizemode": "area",
          "sizeref": 0.0005398287579957356,
          "symbol": "circle"
         },
         "mode": "markers",
         "name": "Luxembourg",
         "orientation": "v",
         "showlegend": true,
         "type": "scatter",
         "x": {
          "bdata": "UXxhH4uP7T8=",
          "dtype": "f8"
         },
         "xaxis": "x",
         "y": {
          "bdata": "OIETOIET6D8=",
          "dtype": "f8"
         },
         "yaxis": "y"
        },
        {
         "hovertemplate": "<b>%{hovertext}</b><br><br>Country=Mexico<br>Income=%{x}<br>Life Satisfaction=%{y}<br>Health=%{marker.size}<extra></extra>",
         "hovertext": [
          "Mexico"
         ],
         "legendgroup": "Mexico",
         "marker": {
          "color": "#19d3f3",
          "size": {
           "bdata": "TkinsWrk4T8=",
           "dtype": "f8"
          },
          "sizemode": "area",
          "sizeref": 0.0005398287579957356,
          "symbol": "circle"
         },
         "mode": "markers",
         "name": "Mexico",
         "orientation": "v",
         "showlegend": true,
         "type": "scatter",
         "x": {
          "bdata": "ghMuKzQ4xT8=",
          "dtype": "f8"
         },
         "xaxis": "x",
         "y": {
          "bdata": "HdRBHdRB3T8=",
          "dtype": "f8"
         },
         "yaxis": "y"
        },
        {
         "hovertemplate": "<b>%{hovertext}</b><br><br>Country=Netherlands<br>Income=%{x}<br>Life Satisfaction=%{y}<br>Health=%{marker.size}<extra></extra>",
         "hovertext": [
          "Netherlands"
         ],
         "legendgroup": "Netherlands",
         "marker": {
          "color": "#FF6692",
          "size": {
           "bdata": "ltKfCEmr5z8=",
           "dtype": "f8"
          },
          "sizemode": "area",
          "sizeref": 0.0005398287579957356,
          "symbol": "circle"
         },
         "mode": "markers",
         "name": "Netherlands",
         "orientation": "v",
         "showlegend": true,
         "type": "scatter",
         "x": {
          "bdata": "Hr8Jjqbq2T8=",
          "dtype": "f8"
         },
         "xaxis": "x",
         "y": {
          "bdata": "+Iqv+Iqv6D8=",
          "dtype": "f8"
         },
         "yaxis": "y"
        },
        {
         "hovertemplate": "<b>%{hovertext}</b><br><br>Country=New Zealand<br>Income=%{x}<br>Life Satisfaction=%{y}<br>Health=%{marker.size}<extra></extra>",
         "hovertext": [
          "New Zealand"
         ],
         "legendgroup": "New Zealand",
         "marker": {
          "color": "#B6E880",
          "size": {
           "bdata": "LS6xgfwf6z8=",
           "dtype": "f8"
          },
          "sizemode": "area",
          "sizeref": 0.0005398287579957356,
          "symbol": "circle"
         },
         "mode": "markers",
         "name": "New Zealand",
         "orientation": "v",
         "showlegend": true,
         "type": "scatter",
         "x": {
          "bdata": "2eMmGiFv4z8=",
          "dtype": "f8"
         },
         "xaxis": "x",
         "y": {
          "bdata": "1miN1miN5j8=",
          "dtype": "f8"
         },
         "yaxis": "y"
        },
        {
         "hovertemplate": "<b>%{hovertext}</b><br><br>Country=Norway<br>Income=%{x}<br>Life Satisfaction=%{y}<br>Health=%{marker.size}<extra></extra>",
         "hovertext": [
          "Norway"
         ],
         "legendgroup": "Norway",
         "marker": {
          "color": "#FF97FF",
          "size": {
           "bdata": "kQUFgrE26D8=",
           "dtype": "f8"
          },
          "sizemode": "area",
          "sizeref": 0.0005398287579957356,
          "symbol": "circle"
         },
         "mode": "markers",
         "name": "Norway",
         "orientation": "v",
         "showlegend": true,
         "type": "scatter",
         "x": {
          "bdata": "UCSoho3V3T8=",
          "dtype": "f8"
         },
         "xaxis": "x",
         "y": {
          "bdata": "t23btm3b5j8=",
          "dtype": "f8"
         },
         "yaxis": "y"
        },
        {
         "hovertemplate": "<b>%{hovertext}</b><br><br>Country=OECD - Total<br>Income=%{x}<br>Life Satisfaction=%{y}<br>Health=%{marker.size}<extra></extra>",
         "hovertext": [
          "OECD - Total"
         ],
         "legendgroup": "OECD - Total",
         "marker": {
          "color": "#FECB52",
          "size": {
           "bdata": "2dxxJYF55T8=",
           "dtype": "f8"
          },
          "sizemode": "area",
          "sizeref": 0.0005398287579957356,
          "symbol": "circle"
         },
         "mode": "markers",
         "name": "OECD - Total",
         "orientation": "v",
         "showlegend": true,
         "type": "scatter",
         "x": {
          "bdata": "wFFT6lxG2T8=",
          "dtype": "f8"
         },
         "xaxis": "x",
         "y": {
          "bdata": "Uy7lUi7l4j8=",
          "dtype": "f8"
         },
         "yaxis": "y"
        },
        {
         "hovertemplate": "<b>%{hovertext}</b><br><br>Country=Poland<br>Income=%{x}<br>Life Satisfaction=%{y}<br>Health=%{marker.size}<extra></extra>",
         "hovertext": [
          "Poland"
         ],
         "legendgroup": "Poland",
         "marker": {
          "color": "#636efa",
          "size": {
           "bdata": "OIOeNO7q4T8=",
           "dtype": "f8"
          },
          "sizemode": "area",
          "sizeref": 0.0005398287579957356,
          "symbol": "circle"
         },
         "mode": "markers",
         "name": "Poland",
         "orientation": "v",
         "showlegend": true,
         "type": "scatter",
         "x": {
          "bdata": "qkceHp+w0D8=",
          "dtype": "f8"
         },
         "xaxis": "x",
         "y": {
          "bdata": "Pc/zPM/z3D8=",
          "dtype": "f8"
         },
         "yaxis": "y"
        },
        {
         "hovertemplate": "<b>%{hovertext}</b><br><br>Country=Portugal<br>Income=%{x}<br>Life Satisfaction=%{y}<br>Health=%{marker.size}<extra></extra>",
         "hovertext": [
          "Portugal"
         ],
         "legendgroup": "Portugal",
         "marker": {
          "color": "#EF553B",
          "size": {
           "bdata": "zHtChwGi4D8=",
           "dtype": "f8"
          },
          "sizemode": "area",
          "sizeref": 0.0005398287579957356,
          "symbol": "circle"
         },
         "mode": "markers",
         "name": "Portugal",
         "orientation": "v",
         "showlegend": true,
         "type": "scatter",
         "x": {
          "bdata": "vGPyEQRu0j8=",
          "dtype": "f8"
         },
         "xaxis": "x",
         "y": {
          "bdata": "WqM1WqM12j8=",
          "dtype": "f8"
         },
         "yaxis": "y"
        },
        {
         "hovertemplate": "<b>%{hovertext}</b><br><br>Country=Russia<br>Income=%{x}<br>Life Satisfaction=%{y}<br>Health=%{marker.size}<extra></extra>",
         "hovertext": [
          "Russia"
         ],
         "legendgroup": "Russia",
         "marker": {
          "color": "#00cc96",
          "size": {
           "bdata": "pQ9WWWtO1z8=",
           "dtype": "f8"
          },
          "sizemode": "area",
          "sizeref": 0.0005398287579957356,
          "symbol": "circle"
         },
         "mode": "markers",
         "name": "Russia",
         "orientation": "v",
         "showlegend": true,
         "type": "scatter",
         "x": {
          "bdata": "W2LxYpFAzz8=",
          "dtype": "f8"
         },
         "xaxis": "x",
         "y": {
          "bdata": "cymXcimX0j8=",
          "dtype": "f8"
         },
         "yaxis": "y"
        },
        {
         "hovertemplate": "<b>%{hovertext}</b><br><br>Country=Slovak Republic<br>Income=%{x}<br>Life Satisfaction=%{y}<br>Health=%{marker.size}<extra></extra>",
         "hovertext": [
          "Slovak Republic"
         ],
         "legendgroup": "Slovak Republic",
         "marker": {
          "color": "#ab63fa",
          "size": {
           "bdata": "Rwmz2Cdb4z8=",
           "dtype": "f8"
          },
          "sizemode": "area",
          "sizeref": 0.0005398287579957356,
          "symbol": "circle"
         },
         "mode": "markers",
         "name": "Slovak Republic",
         "orientation": "v",
         "showlegend": true,
         "type": "scatter",
         "x": {
          "bdata": "B1OClbHsyD8=",
          "dtype": "f8"
         },
         "xaxis": "x",
         "y": {
          "bdata": "8hVf8RVf4T8=",
          "dtype": "f8"
         },
         "yaxis": "y"
        },
        {
         "hovertemplate": "<b>%{hovertext}</b><br><br>Country=Slovenia<br>Income=%{x}<br>Life Satisfaction=%{y}<br>Health=%{marker.size}<extra></extra>",
         "hovertext": [
          "Slovenia"
         ],
         "legendgroup": "Slovenia",
         "marker": {
          "color": "#FFA15A",
          "size": {
           "bdata": "qgysGO4D5T8=",
           "dtype": "f8"
          },
          "sizemode": "area",
          "sizeref": 0.0005398287579957356,
          "symbol": "circle"
         },
         "mode": "markers",
         "name": "Slovenia",
         "orientation": "v",
         "showlegend": true,
         "type": "scatter",
         "x": {
          "bdata": "nu9yvtfl0T8=",
          "dtype": "f8"
         },
         "xaxis": "x",
         "y": {
          "bdata": "JUmSJEmS4D8=",
          "dtype": "f8"
         },
         "yaxis": "y"
        },
        {
         "hovertemplate": "<b>%{hovertext}</b><br><br>Country=South Africa<br>Income=%{x}<br>Life Satisfaction=%{y}<br>Health=%{marker.size}<extra></extra>",
         "hovertext": [
          "South Africa"
         ],
         "legendgroup": "South Africa",
         "marker": {
          "color": "#19d3f3",
          "size": {
           "bdata": "TaQHKme3wD8=",
           "dtype": "f8"
          },
          "sizemode": "area",
          "sizeref": 0.0005398287579957356,
          "symbol": "circle"
         },
         "mode": "markers",
         "name": "South Africa",
         "orientation": "v",
         "showlegend": true,
         "type": "scatter",
         "x": {
          "bdata": "AAAAAAAAAAA=",
          "dtype": "f8"
         },
         "xaxis": "x",
         "y": {
          "bdata": "mnIpl3Ipxz8=",
          "dtype": "f8"
         },
         "yaxis": "y"
        },
        {
         "hovertemplate": "<b>%{hovertext}</b><br><br>Country=Spain<br>Income=%{x}<br>Life Satisfaction=%{y}<br>Health=%{marker.size}<extra></extra>",
         "hovertext": [
          "Spain"
         ],
         "legendgroup": "Spain",
         "marker": {
          "color": "#FF6692",
          "size": {
           "bdata": "Y7gP8EEE6T8=",
           "dtype": "f8"
          },
          "sizemode": "area",
          "sizeref": 0.0005398287579957356,
          "symbol": "circle"
         },
         "mode": "markers",
         "name": "Spain",
         "orientation": "v",
         "showlegend": true,
         "type": "scatter",
         "x": {
          "bdata": "VqLiL4xN2D8=",
          "dtype": "f8"
         },
         "xaxis": "x",
         "y": {
          "bdata": "sh/7sR/74T8=",
          "dtype": "f8"
         },
         "yaxis": "y"
        },
        {
         "hovertemplate": "<b>%{hovertext}</b><br><br>Country=Sweden<br>Income=%{x}<br>Life Satisfaction=%{y}<br>Health=%{marker.size}<extra></extra>",
         "hovertext": [
          "Sweden"
         ],
         "legendgroup": "Sweden",
         "marker": {
          "color": "#B6E880",
          "size": {
           "bdata": "gEFovZGh6D8=",
           "dtype": "f8"
          },
          "sizemode": "area",
          "sizeref": 0.0005398287579957356,
          "symbol": "circle"
         },
         "mode": "markers",
         "name": "Sweden",
         "orientation": "v",
         "showlegend": true,
         "type": "scatter",
         "x": {
          "bdata": "HZ01DFar4j8=",
          "dtype": "f8"
         },
         "xaxis": "x",
         "y": {
          "bdata": "l3Ipl3Ip5z8=",
          "dtype": "f8"
         },
         "yaxis": "y"
        },
        {
         "hovertemplate": "<b>%{hovertext}</b><br><br>Country=Switzerland<br>Income=%{x}<br>Life Satisfaction=%{y}<br>Health=%{marker.size}<extra></extra>",
         "hovertext": [
          "Switzerland"
         ],
         "legendgroup": "Switzerland",
         "marker": {
          "color": "#FF97FF",
          "size": {
           "bdata": "roi8WbpN6j8=",
           "dtype": "f8"
          },
          "sizemode": "area",
          "sizeref": 0.0005398287579957356,
          "symbol": "circle"
         },
         "mode": "markers",
         "name": "Switzerland",
         "orientation": "v",
         "showlegend": true,
         "type": "scatter",
         "x": {
          "bdata": "BFdtj4A85z8=",
          "dtype": "f8"
         },
         "xaxis": "x",
         "y": {
          "bdata": "GIZhGIZh6D8=",
          "dtype": "f8"
         },
         "yaxis": "y"
        },
        {
         "hovertemplate": "<b>%{hovertext}</b><br><br>Country=Türkiye<br>Income=%{x}<br>Life Satisfaction=%{y}<br>Health=%{marker.size}<extra></extra>",
         "hovertext": [
          "Türkiye"
         ],
         "legendgroup": "Türkiye",
         "marker": {
          "color": "#FECB52",
          "size": {
           "bdata": "vwFwzlU+5D8=",
           "dtype": "f8"
          },
          "sizemode": "area",
          "sizeref": 0.0005398287579957356,
          "symbol": "circle"
         },
         "mode": "markers",
         "name": "Türkiye",
         "orientation": "v",
         "showlegend": true,
         "type": "scatter",
         "x": {
          "bdata": "AAAAAAAA+H8=",
          "dtype": "f8"
         },
         "xaxis": "x",
         "y": {
          "bdata": "2WiN1miNxj8=",
          "dtype": "f8"
         },
         "yaxis": "y"
        },
        {
         "hovertemplate": "<b>%{hovertext}</b><br><br>Country=United Kingdom<br>Income=%{x}<br>Life Satisfaction=%{y}<br>Health=%{marker.size}<extra></extra>",
         "hovertext": [
          "United Kingdom"
         ],
         "legendgroup": "United Kingdom",
         "marker": {
          "color": "#636efa",
          "size": {
           "bdata": "rsCjhFns5j8=",
           "dtype": "f8"
          },
          "sizemode": "area",
          "sizeref": 0.0005398287579957356,
          "symbol": "circle"
         },
         "mode": "markers",
         "name": "United Kingdom",
         "orientation": "v",
         "showlegend": true,
         "type": "scatter",
         "x": {
          "bdata": "UGcZI4VW4T8=",
          "dtype": "f8"
         },
         "xaxis": "x",
         "y": {
          "bdata": "FDiBEziB4z8=",
          "dtype": "f8"
         },
         "yaxis": "y"
        },
        {
         "hovertemplate": "<b>%{hovertext}</b><br><br>Country=United States<br>Income=%{x}<br>Life Satisfaction=%{y}<br>Health=%{marker.size}<extra></extra>",
         "hovertext": [
          "United States"
         ],
         "legendgroup": "United States",
         "marker": {
          "color": "#EF553B",
          "size": {
           "bdata": "wIRASXmB6T8=",
           "dtype": "f8"
          },
          "sizemode": "area",
          "sizeref": 0.0005398287579957356,
          "symbol": "circle"
         },
         "mode": "markers",
         "name": "United States",
         "orientation": "v",
         "showlegend": true,
         "type": "scatter",
         "x": {
          "bdata": "hOIem0o86z8=",
          "dtype": "f8"
         },
         "xaxis": "x",
         "y": {
          "bdata": "VlVVVVVV5T8=",
          "dtype": "f8"
         },
         "yaxis": "y"
        }
       ],
       "layout": {
        "legend": {
         "itemsizing": "constant",
         "title": {
          "text": "Country"
         },
         "tracegroupgap": 0
        },
        "template": {
         "data": {
          "bar": [
           {
            "error_x": {
             "color": "#2a3f5f"
            },
            "error_y": {
             "color": "#2a3f5f"
            },
            "marker": {
             "line": {
              "color": "white",
              "width": 0.5
             },
             "pattern": {
              "fillmode": "overlay",
              "size": 10,
              "solidity": 0.2
             }
            },
            "type": "bar"
           }
          ],
          "barpolar": [
           {
            "marker": {
             "line": {
              "color": "white",
              "width": 0.5
             },
             "pattern": {
              "fillmode": "overlay",
              "size": 10,
              "solidity": 0.2
             }
            },
            "type": "barpolar"
           }
          ],
          "carpet": [
           {
            "aaxis": {
             "endlinecolor": "#2a3f5f",
             "gridcolor": "#C8D4E3",
             "linecolor": "#C8D4E3",
             "minorgridcolor": "#C8D4E3",
             "startlinecolor": "#2a3f5f"
            },
            "baxis": {
             "endlinecolor": "#2a3f5f",
             "gridcolor": "#C8D4E3",
             "linecolor": "#C8D4E3",
             "minorgridcolor": "#C8D4E3",
             "startlinecolor": "#2a3f5f"
            },
            "type": "carpet"
           }
          ],
          "choropleth": [
           {
            "colorbar": {
             "outlinewidth": 0,
             "ticks": ""
            },
            "type": "choropleth"
           }
          ],
          "contour": [
           {
            "colorbar": {
             "outlinewidth": 0,
             "ticks": ""
            },
            "colorscale": [
             [
              0,
              "#0d0887"
             ],
             [
              0.1111111111111111,
              "#46039f"
             ],
             [
              0.2222222222222222,
              "#7201a8"
             ],
             [
              0.3333333333333333,
              "#9c179e"
             ],
             [
              0.4444444444444444,
              "#bd3786"
             ],
             [
              0.5555555555555556,
              "#d8576b"
             ],
             [
              0.6666666666666666,
              "#ed7953"
             ],
             [
              0.7777777777777778,
              "#fb9f3a"
             ],
             [
              0.8888888888888888,
              "#fdca26"
             ],
             [
              1,
              "#f0f921"
             ]
            ],
            "type": "contour"
           }
          ],
          "contourcarpet": [
           {
            "colorbar": {
             "outlinewidth": 0,
             "ticks": ""
            },
            "type": "contourcarpet"
           }
          ],
          "heatmap": [
           {
            "colorbar": {
             "outlinewidth": 0,
             "ticks": ""
            },
            "colorscale": [
             [
              0,
              "#0d0887"
             ],
             [
              0.1111111111111111,
              "#46039f"
             ],
             [
              0.2222222222222222,
              "#7201a8"
             ],
             [
              0.3333333333333333,
              "#9c179e"
             ],
             [
              0.4444444444444444,
              "#bd3786"
             ],
             [
              0.5555555555555556,
              "#d8576b"
             ],
             [
              0.6666666666666666,
              "#ed7953"
             ],
             [
              0.7777777777777778,
              "#fb9f3a"
             ],
             [
              0.8888888888888888,
              "#fdca26"
             ],
             [
              1,
              "#f0f921"
             ]
            ],
            "type": "heatmap"
           }
          ],
          "histogram": [
           {
            "marker": {
             "pattern": {
              "fillmode": "overlay",
              "size": 10,
              "solidity": 0.2
             }
            },
            "type": "histogram"
           }
          ],
          "histogram2d": [
           {
            "colorbar": {
             "outlinewidth": 0,
             "ticks": ""
            },
            "colorscale": [
             [
              0,
              "#0d0887"
             ],
             [
              0.1111111111111111,
              "#46039f"
             ],
             [
              0.2222222222222222,
              "#7201a8"
             ],
             [
              0.3333333333333333,
              "#9c179e"
             ],
             [
              0.4444444444444444,
              "#bd3786"
             ],
             [
              0.5555555555555556,
              "#d8576b"
             ],
             [
              0.6666666666666666,
              "#ed7953"
             ],
             [
              0.7777777777777778,
              "#fb9f3a"
             ],
             [
              0.8888888888888888,
              "#fdca26"
             ],
             [
              1,
              "#f0f921"
             ]
            ],
            "type": "histogram2d"
           }
          ],
          "histogram2dcontour": [
           {
            "colorbar": {
             "outlinewidth": 0,
             "ticks": ""
            },
            "colorscale": [
             [
              0,
              "#0d0887"
             ],
             [
              0.1111111111111111,
              "#46039f"
             ],
             [
              0.2222222222222222,
              "#7201a8"
             ],
             [
              0.3333333333333333,
              "#9c179e"
             ],
             [
              0.4444444444444444,
              "#bd3786"
             ],
             [
              0.5555555555555556,
              "#d8576b"
             ],
             [
              0.6666666666666666,
              "#ed7953"
             ],
             [
              0.7777777777777778,
              "#fb9f3a"
             ],
             [
              0.8888888888888888,
              "#fdca26"
             ],
             [
              1,
              "#f0f921"
             ]
            ],
            "type": "histogram2dcontour"
           }
          ],
          "mesh3d": [
           {
            "colorbar": {
             "outlinewidth": 0,
             "ticks": ""
            },
            "type": "mesh3d"
           }
          ],
          "parcoords": [
           {
            "line": {
             "colorbar": {
              "outlinewidth": 0,
              "ticks": ""
             }
            },
            "type": "parcoords"
           }
          ],
          "pie": [
           {
            "automargin": true,
            "type": "pie"
           }
          ],
          "scatter": [
           {
            "fillpattern": {
             "fillmode": "overlay",
             "size": 10,
             "solidity": 0.2
            },
            "type": "scatter"
           }
          ],
          "scatter3d": [
           {
            "line": {
             "colorbar": {
              "outlinewidth": 0,
              "ticks": ""
             }
            },
            "marker": {
             "colorbar": {
              "outlinewidth": 0,
              "ticks": ""
             }
            },
            "type": "scatter3d"
           }
          ],
          "scattercarpet": [
           {
            "marker": {
             "colorbar": {
              "outlinewidth": 0,
              "ticks": ""
             }
            },
            "type": "scattercarpet"
           }
          ],
          "scattergeo": [
           {
            "marker": {
             "colorbar": {
              "outlinewidth": 0,
              "ticks": ""
             }
            },
            "type": "scattergeo"
           }
          ],
          "scattergl": [
           {
            "marker": {
             "colorbar": {
              "outlinewidth": 0,
              "ticks": ""
             }
            },
            "type": "scattergl"
           }
          ],
          "scattermap": [
           {
            "marker": {
             "colorbar": {
              "outlinewidth": 0,
              "ticks": ""
             }
            },
            "type": "scattermap"
           }
          ],
          "scattermapbox": [
           {
            "marker": {
             "colorbar": {
              "outlinewidth": 0,
              "ticks": ""
             }
            },
            "type": "scattermapbox"
           }
          ],
          "scatterpolar": [
           {
            "marker": {
             "colorbar": {
              "outlinewidth": 0,
              "ticks": ""
             }
            },
            "type": "scatterpolar"
           }
          ],
          "scatterpolargl": [
           {
            "marker": {
             "colorbar": {
              "outlinewidth": 0,
              "ticks": ""
             }
            },
            "type": "scatterpolargl"
           }
          ],
          "scatterternary": [
           {
            "marker": {
             "colorbar": {
              "outlinewidth": 0,
              "ticks": ""
             }
            },
            "type": "scatterternary"
           }
          ],
          "surface": [
           {
            "colorbar": {
             "outlinewidth": 0,
             "ticks": ""
            },
            "colorscale": [
             [
              0,
              "#0d0887"
             ],
             [
              0.1111111111111111,
              "#46039f"
             ],
             [
              0.2222222222222222,
              "#7201a8"
             ],
             [
              0.3333333333333333,
              "#9c179e"
             ],
             [
              0.4444444444444444,
              "#bd3786"
             ],
             [
              0.5555555555555556,
              "#d8576b"
             ],
             [
              0.6666666666666666,
              "#ed7953"
             ],
             [
              0.7777777777777778,
              "#fb9f3a"
             ],
             [
              0.8888888888888888,
              "#fdca26"
             ],
             [
              1,
              "#f0f921"
             ]
            ],
            "type": "surface"
           }
          ],
          "table": [
           {
            "cells": {
             "fill": {
              "color": "#EBF0F8"
             },
             "line": {
              "color": "white"
             }
            },
            "header": {
             "fill": {
              "color": "#C8D4E3"
             },
             "line": {
              "color": "white"
             }
            },
            "type": "table"
           }
          ]
         },
         "layout": {
          "annotationdefaults": {
           "arrowcolor": "#2a3f5f",
           "arrowhead": 0,
           "arrowwidth": 1
          },
          "autotypenumbers": "strict",
          "coloraxis": {
           "colorbar": {
            "outlinewidth": 0,
            "ticks": ""
           }
          },
          "colorscale": {
           "diverging": [
            [
             0,
             "#8e0152"
            ],
            [
             0.1,
             "#c51b7d"
            ],
            [
             0.2,
             "#de77ae"
            ],
            [
             0.3,
             "#f1b6da"
            ],
            [
             0.4,
             "#fde0ef"
            ],
            [
             0.5,
             "#f7f7f7"
            ],
            [
             0.6,
             "#e6f5d0"
            ],
            [
             0.7,
             "#b8e186"
            ],
            [
             0.8,
             "#7fbc41"
            ],
            [
             0.9,
             "#4d9221"
            ],
            [
             1,
             "#276419"
            ]
           ],
           "sequential": [
            [
             0,
             "#0d0887"
            ],
            [
             0.1111111111111111,
             "#46039f"
            ],
            [
             0.2222222222222222,
             "#7201a8"
            ],
            [
             0.3333333333333333,
             "#9c179e"
            ],
            [
             0.4444444444444444,
             "#bd3786"
            ],
            [
             0.5555555555555556,
             "#d8576b"
            ],
            [
             0.6666666666666666,
             "#ed7953"
            ],
            [
             0.7777777777777778,
             "#fb9f3a"
            ],
            [
             0.8888888888888888,
             "#fdca26"
            ],
            [
             1,
             "#f0f921"
            ]
           ],
           "sequentialminus": [
            [
             0,
             "#0d0887"
            ],
            [
             0.1111111111111111,
             "#46039f"
            ],
            [
             0.2222222222222222,
             "#7201a8"
            ],
            [
             0.3333333333333333,
             "#9c179e"
            ],
            [
             0.4444444444444444,
             "#bd3786"
            ],
            [
             0.5555555555555556,
             "#d8576b"
            ],
            [
             0.6666666666666666,
             "#ed7953"
            ],
            [
             0.7777777777777778,
             "#fb9f3a"
            ],
            [
             0.8888888888888888,
             "#fdca26"
            ],
            [
             1,
             "#f0f921"
            ]
           ]
          },
          "colorway": [
           "#636efa",
           "#EF553B",
           "#00cc96",
           "#ab63fa",
           "#FFA15A",
           "#19d3f3",
           "#FF6692",
           "#B6E880",
           "#FF97FF",
           "#FECB52"
          ],
          "font": {
           "color": "#2a3f5f"
          },
          "geo": {
           "bgcolor": "white",
           "lakecolor": "white",
           "landcolor": "white",
           "showlakes": true,
           "showland": true,
           "subunitcolor": "#C8D4E3"
          },
          "hoverlabel": {
           "align": "left"
          },
          "hovermode": "closest",
          "mapbox": {
           "style": "light"
          },
          "paper_bgcolor": "white",
          "plot_bgcolor": "white",
          "polar": {
           "angularaxis": {
            "gridcolor": "#EBF0F8",
            "linecolor": "#EBF0F8",
            "ticks": ""
           },
           "bgcolor": "white",
           "radialaxis": {
            "gridcolor": "#EBF0F8",
            "linecolor": "#EBF0F8",
            "ticks": ""
           }
          },
          "scene": {
           "xaxis": {
            "backgroundcolor": "white",
            "gridcolor": "#DFE8F3",
            "gridwidth": 2,
            "linecolor": "#EBF0F8",
            "showbackground": true,
            "ticks": "",
            "zerolinecolor": "#EBF0F8"
           },
           "yaxis": {
            "backgroundcolor": "white",
            "gridcolor": "#DFE8F3",
            "gridwidth": 2,
            "linecolor": "#EBF0F8",
            "showbackground": true,
            "ticks": "",
            "zerolinecolor": "#EBF0F8"
           },
           "zaxis": {
            "backgroundcolor": "white",
            "gridcolor": "#DFE8F3",
            "gridwidth": 2,
            "linecolor": "#EBF0F8",
            "showbackground": true,
            "ticks": "",
            "zerolinecolor": "#EBF0F8"
           }
          },
          "shapedefaults": {
           "line": {
            "color": "#2a3f5f"
           }
          },
          "ternary": {
           "aaxis": {
            "gridcolor": "#DFE8F3",
            "linecolor": "#A2B1C6",
            "ticks": ""
           },
           "baxis": {
            "gridcolor": "#DFE8F3",
            "linecolor": "#A2B1C6",
            "ticks": ""
           },
           "bgcolor": "white",
           "caxis": {
            "gridcolor": "#DFE8F3",
            "linecolor": "#A2B1C6",
            "ticks": ""
           }
          },
          "title": {
           "x": 0.05
          },
          "xaxis": {
           "automargin": true,
           "gridcolor": "#EBF0F8",
           "linecolor": "#EBF0F8",
           "ticks": "",
           "title": {
            "standoff": 15
           },
           "zerolinecolor": "#EBF0F8",
           "zerolinewidth": 2
          },
          "yaxis": {
           "automargin": true,
           "gridcolor": "#EBF0F8",
           "linecolor": "#EBF0F8",
           "ticks": "",
           "title": {
            "standoff": 15
           },
           "zerolinecolor": "#EBF0F8",
           "zerolinewidth": 2
          }
         }
        },
        "title": {
         "text": "Correlación entre Ingreso, Satisfacción con la Vida y Salud"
        },
        "xaxis": {
         "anchor": "y",
         "domain": [
          0,
          1
         ],
         "title": {
          "text": "Income"
         }
        },
        "yaxis": {
         "anchor": "x",
         "domain": [
          0,
          1
         ],
         "title": {
          "text": "Life Satisfaction"
         }
        }
       }
      }
     },
     "metadata": {},
     "output_type": "display_data"
    }
   ],
   "source": [
    "fig = px.scatter(df_promedios_por_dominio,x=\"Income\",y=\"Life Satisfaction\",size=\"Health\",color=\"Country\",hover_name=\"Country\",size_max=40,title=\"Correlación entre Ingreso, Satisfacción con la Vida y Salud\")\n",
    "\n",
    "fig.update_layout(template=\"plotly_white\")\n",
    "fig.show()"
   ]
  },
  {
   "cell_type": "code",
   "execution_count": 8,
   "id": "d66d5d5b",
   "metadata": {},
   "outputs": [
    {
     "data": {
      "application/vnd.plotly.v1+json": {
       "config": {
        "plotlyServerURL": "https://plot.ly"
       },
       "data": [
        {
         "hovertemplate": "Country=%{x}<br>Jobs=%{marker.color}<extra></extra>",
         "legendgroup": "",
         "marker": {
          "color": {
           "bdata": "Rl7OSHl86z8jXVQm5xbrP2ZCXgQF+eg/AAAAAAAA4D9y9LFjkQDrPz2B8MJLG94/y1YXIKxs5z+Be9QOXw3mP39YqG0hOuo/RjSq5Pm86z/2R2YHP1jpP0/WGECPveo/Cvs7CFrj5z8wpN7uZ2zsP/uvqeLdg9g/80Uk3pNK6D+Y9tNKkRDuP8j6mYep9uk/umHtCw8m6T88qnuG9pXjP6TV/xCqbOs/ATJWKJ6R6T9qkTx/HP7nP4gz6mR+Aug/3Xhrx2C56j81RgrcfQfmP24nq5ciC+0/ocjEiPGl6z8IjHE71xvsP0eauM2b/eg/SxSaoTOu6D9En2boUfXmPxcgrGx1Aes/3fukdjWw5T/qfBK4MvLoP0vS6y4LesI/GE9vhdT14j8fIxKSJijrP+3D2vVueO0/2mjq4U7F4T99QeYXyG/rP+AZUJKqVes/",
           "dtype": "f8"
          },
          "coloraxis": "coloraxis",
          "pattern": {
           "shape": ""
          }
         },
         "name": "",
         "orientation": "v",
         "showlegend": false,
         "textposition": "auto",
         "type": "bar",
         "x": [
          "Australia",
          "Austria",
          "Belgium",
          "Brazil",
          "Canada",
          "Chile",
          "Colombia",
          "Costa Rica",
          "Czechia",
          "Denmark",
          "Estonia",
          "Finland",
          "France",
          "Germany",
          "Greece",
          "Hungary",
          "Iceland",
          "Ireland",
          "Israel",
          "Italy",
          "Japan",
          "Korea",
          "Latvia",
          "Lithuania",
          "Luxembourg",
          "Mexico",
          "Netherlands",
          "New Zealand",
          "Norway",
          "OECD - Total",
          "Poland",
          "Portugal",
          "Russia",
          "Slovak Republic",
          "Slovenia",
          "South Africa",
          "Spain",
          "Sweden",
          "Switzerland",
          "Türkiye",
          "United Kingdom",
          "United States"
         ],
         "xaxis": "x",
         "y": {
          "bdata": "Rl7OSHl86z8jXVQm5xbrP2ZCXgQF+eg/AAAAAAAA4D9y9LFjkQDrPz2B8MJLG94/y1YXIKxs5z+Be9QOXw3mP39YqG0hOuo/RjSq5Pm86z/2R2YHP1jpP0/WGECPveo/Cvs7CFrj5z8wpN7uZ2zsP/uvqeLdg9g/80Uk3pNK6D+Y9tNKkRDuP8j6mYep9uk/umHtCw8m6T88qnuG9pXjP6TV/xCqbOs/ATJWKJ6R6T9qkTx/HP7nP4gz6mR+Aug/3Xhrx2C56j81RgrcfQfmP24nq5ciC+0/ocjEiPGl6z8IjHE71xvsP0eauM2b/eg/SxSaoTOu6D9En2boUfXmPxcgrGx1Aes/3fukdjWw5T/qfBK4MvLoP0vS6y4LesI/GE9vhdT14j8fIxKSJijrP+3D2vVueO0/2mjq4U7F4T99QeYXyG/rP+AZUJKqVes/",
          "dtype": "f8"
         },
         "yaxis": "y"
        }
       ],
       "layout": {
        "barmode": "relative",
        "coloraxis": {
         "colorbar": {
          "title": {
           "text": "Jobs"
          }
         },
         "colorscale": [
          [
           0,
           "rgb(255,245,240)"
          ],
          [
           0.125,
           "rgb(254,224,210)"
          ],
          [
           0.25,
           "rgb(252,187,161)"
          ],
          [
           0.375,
           "rgb(252,146,114)"
          ],
          [
           0.5,
           "rgb(251,106,74)"
          ],
          [
           0.625,
           "rgb(239,59,44)"
          ],
          [
           0.75,
           "rgb(203,24,29)"
          ],
          [
           0.875,
           "rgb(165,15,21)"
          ],
          [
           1,
           "rgb(103,0,13)"
          ]
         ]
        },
        "legend": {
         "tracegroupgap": 0
        },
        "template": {
         "data": {
          "bar": [
           {
            "error_x": {
             "color": "#2a3f5f"
            },
            "error_y": {
             "color": "#2a3f5f"
            },
            "marker": {
             "line": {
              "color": "#E5ECF6",
              "width": 0.5
             },
             "pattern": {
              "fillmode": "overlay",
              "size": 10,
              "solidity": 0.2
             }
            },
            "type": "bar"
           }
          ],
          "barpolar": [
           {
            "marker": {
             "line": {
              "color": "#E5ECF6",
              "width": 0.5
             },
             "pattern": {
              "fillmode": "overlay",
              "size": 10,
              "solidity": 0.2
             }
            },
            "type": "barpolar"
           }
          ],
          "carpet": [
           {
            "aaxis": {
             "endlinecolor": "#2a3f5f",
             "gridcolor": "white",
             "linecolor": "white",
             "minorgridcolor": "white",
             "startlinecolor": "#2a3f5f"
            },
            "baxis": {
             "endlinecolor": "#2a3f5f",
             "gridcolor": "white",
             "linecolor": "white",
             "minorgridcolor": "white",
             "startlinecolor": "#2a3f5f"
            },
            "type": "carpet"
           }
          ],
          "choropleth": [
           {
            "colorbar": {
             "outlinewidth": 0,
             "ticks": ""
            },
            "type": "choropleth"
           }
          ],
          "contour": [
           {
            "colorbar": {
             "outlinewidth": 0,
             "ticks": ""
            },
            "colorscale": [
             [
              0,
              "#0d0887"
             ],
             [
              0.1111111111111111,
              "#46039f"
             ],
             [
              0.2222222222222222,
              "#7201a8"
             ],
             [
              0.3333333333333333,
              "#9c179e"
             ],
             [
              0.4444444444444444,
              "#bd3786"
             ],
             [
              0.5555555555555556,
              "#d8576b"
             ],
             [
              0.6666666666666666,
              "#ed7953"
             ],
             [
              0.7777777777777778,
              "#fb9f3a"
             ],
             [
              0.8888888888888888,
              "#fdca26"
             ],
             [
              1,
              "#f0f921"
             ]
            ],
            "type": "contour"
           }
          ],
          "contourcarpet": [
           {
            "colorbar": {
             "outlinewidth": 0,
             "ticks": ""
            },
            "type": "contourcarpet"
           }
          ],
          "heatmap": [
           {
            "colorbar": {
             "outlinewidth": 0,
             "ticks": ""
            },
            "colorscale": [
             [
              0,
              "#0d0887"
             ],
             [
              0.1111111111111111,
              "#46039f"
             ],
             [
              0.2222222222222222,
              "#7201a8"
             ],
             [
              0.3333333333333333,
              "#9c179e"
             ],
             [
              0.4444444444444444,
              "#bd3786"
             ],
             [
              0.5555555555555556,
              "#d8576b"
             ],
             [
              0.6666666666666666,
              "#ed7953"
             ],
             [
              0.7777777777777778,
              "#fb9f3a"
             ],
             [
              0.8888888888888888,
              "#fdca26"
             ],
             [
              1,
              "#f0f921"
             ]
            ],
            "type": "heatmap"
           }
          ],
          "histogram": [
           {
            "marker": {
             "pattern": {
              "fillmode": "overlay",
              "size": 10,
              "solidity": 0.2
             }
            },
            "type": "histogram"
           }
          ],
          "histogram2d": [
           {
            "colorbar": {
             "outlinewidth": 0,
             "ticks": ""
            },
            "colorscale": [
             [
              0,
              "#0d0887"
             ],
             [
              0.1111111111111111,
              "#46039f"
             ],
             [
              0.2222222222222222,
              "#7201a8"
             ],
             [
              0.3333333333333333,
              "#9c179e"
             ],
             [
              0.4444444444444444,
              "#bd3786"
             ],
             [
              0.5555555555555556,
              "#d8576b"
             ],
             [
              0.6666666666666666,
              "#ed7953"
             ],
             [
              0.7777777777777778,
              "#fb9f3a"
             ],
             [
              0.8888888888888888,
              "#fdca26"
             ],
             [
              1,
              "#f0f921"
             ]
            ],
            "type": "histogram2d"
           }
          ],
          "histogram2dcontour": [
           {
            "colorbar": {
             "outlinewidth": 0,
             "ticks": ""
            },
            "colorscale": [
             [
              0,
              "#0d0887"
             ],
             [
              0.1111111111111111,
              "#46039f"
             ],
             [
              0.2222222222222222,
              "#7201a8"
             ],
             [
              0.3333333333333333,
              "#9c179e"
             ],
             [
              0.4444444444444444,
              "#bd3786"
             ],
             [
              0.5555555555555556,
              "#d8576b"
             ],
             [
              0.6666666666666666,
              "#ed7953"
             ],
             [
              0.7777777777777778,
              "#fb9f3a"
             ],
             [
              0.8888888888888888,
              "#fdca26"
             ],
             [
              1,
              "#f0f921"
             ]
            ],
            "type": "histogram2dcontour"
           }
          ],
          "mesh3d": [
           {
            "colorbar": {
             "outlinewidth": 0,
             "ticks": ""
            },
            "type": "mesh3d"
           }
          ],
          "parcoords": [
           {
            "line": {
             "colorbar": {
              "outlinewidth": 0,
              "ticks": ""
             }
            },
            "type": "parcoords"
           }
          ],
          "pie": [
           {
            "automargin": true,
            "type": "pie"
           }
          ],
          "scatter": [
           {
            "fillpattern": {
             "fillmode": "overlay",
             "size": 10,
             "solidity": 0.2
            },
            "type": "scatter"
           }
          ],
          "scatter3d": [
           {
            "line": {
             "colorbar": {
              "outlinewidth": 0,
              "ticks": ""
             }
            },
            "marker": {
             "colorbar": {
              "outlinewidth": 0,
              "ticks": ""
             }
            },
            "type": "scatter3d"
           }
          ],
          "scattercarpet": [
           {
            "marker": {
             "colorbar": {
              "outlinewidth": 0,
              "ticks": ""
             }
            },
            "type": "scattercarpet"
           }
          ],
          "scattergeo": [
           {
            "marker": {
             "colorbar": {
              "outlinewidth": 0,
              "ticks": ""
             }
            },
            "type": "scattergeo"
           }
          ],
          "scattergl": [
           {
            "marker": {
             "colorbar": {
              "outlinewidth": 0,
              "ticks": ""
             }
            },
            "type": "scattergl"
           }
          ],
          "scattermap": [
           {
            "marker": {
             "colorbar": {
              "outlinewidth": 0,
              "ticks": ""
             }
            },
            "type": "scattermap"
           }
          ],
          "scattermapbox": [
           {
            "marker": {
             "colorbar": {
              "outlinewidth": 0,
              "ticks": ""
             }
            },
            "type": "scattermapbox"
           }
          ],
          "scatterpolar": [
           {
            "marker": {
             "colorbar": {
              "outlinewidth": 0,
              "ticks": ""
             }
            },
            "type": "scatterpolar"
           }
          ],
          "scatterpolargl": [
           {
            "marker": {
             "colorbar": {
              "outlinewidth": 0,
              "ticks": ""
             }
            },
            "type": "scatterpolargl"
           }
          ],
          "scatterternary": [
           {
            "marker": {
             "colorbar": {
              "outlinewidth": 0,
              "ticks": ""
             }
            },
            "type": "scatterternary"
           }
          ],
          "surface": [
           {
            "colorbar": {
             "outlinewidth": 0,
             "ticks": ""
            },
            "colorscale": [
             [
              0,
              "#0d0887"
             ],
             [
              0.1111111111111111,
              "#46039f"
             ],
             [
              0.2222222222222222,
              "#7201a8"
             ],
             [
              0.3333333333333333,
              "#9c179e"
             ],
             [
              0.4444444444444444,
              "#bd3786"
             ],
             [
              0.5555555555555556,
              "#d8576b"
             ],
             [
              0.6666666666666666,
              "#ed7953"
             ],
             [
              0.7777777777777778,
              "#fb9f3a"
             ],
             [
              0.8888888888888888,
              "#fdca26"
             ],
             [
              1,
              "#f0f921"
             ]
            ],
            "type": "surface"
           }
          ],
          "table": [
           {
            "cells": {
             "fill": {
              "color": "#EBF0F8"
             },
             "line": {
              "color": "white"
             }
            },
            "header": {
             "fill": {
              "color": "#C8D4E3"
             },
             "line": {
              "color": "white"
             }
            },
            "type": "table"
           }
          ]
         },
         "layout": {
          "annotationdefaults": {
           "arrowcolor": "#2a3f5f",
           "arrowhead": 0,
           "arrowwidth": 1
          },
          "autotypenumbers": "strict",
          "coloraxis": {
           "colorbar": {
            "outlinewidth": 0,
            "ticks": ""
           }
          },
          "colorscale": {
           "diverging": [
            [
             0,
             "#8e0152"
            ],
            [
             0.1,
             "#c51b7d"
            ],
            [
             0.2,
             "#de77ae"
            ],
            [
             0.3,
             "#f1b6da"
            ],
            [
             0.4,
             "#fde0ef"
            ],
            [
             0.5,
             "#f7f7f7"
            ],
            [
             0.6,
             "#e6f5d0"
            ],
            [
             0.7,
             "#b8e186"
            ],
            [
             0.8,
             "#7fbc41"
            ],
            [
             0.9,
             "#4d9221"
            ],
            [
             1,
             "#276419"
            ]
           ],
           "sequential": [
            [
             0,
             "#0d0887"
            ],
            [
             0.1111111111111111,
             "#46039f"
            ],
            [
             0.2222222222222222,
             "#7201a8"
            ],
            [
             0.3333333333333333,
             "#9c179e"
            ],
            [
             0.4444444444444444,
             "#bd3786"
            ],
            [
             0.5555555555555556,
             "#d8576b"
            ],
            [
             0.6666666666666666,
             "#ed7953"
            ],
            [
             0.7777777777777778,
             "#fb9f3a"
            ],
            [
             0.8888888888888888,
             "#fdca26"
            ],
            [
             1,
             "#f0f921"
            ]
           ],
           "sequentialminus": [
            [
             0,
             "#0d0887"
            ],
            [
             0.1111111111111111,
             "#46039f"
            ],
            [
             0.2222222222222222,
             "#7201a8"
            ],
            [
             0.3333333333333333,
             "#9c179e"
            ],
            [
             0.4444444444444444,
             "#bd3786"
            ],
            [
             0.5555555555555556,
             "#d8576b"
            ],
            [
             0.6666666666666666,
             "#ed7953"
            ],
            [
             0.7777777777777778,
             "#fb9f3a"
            ],
            [
             0.8888888888888888,
             "#fdca26"
            ],
            [
             1,
             "#f0f921"
            ]
           ]
          },
          "colorway": [
           "#636efa",
           "#EF553B",
           "#00cc96",
           "#ab63fa",
           "#FFA15A",
           "#19d3f3",
           "#FF6692",
           "#B6E880",
           "#FF97FF",
           "#FECB52"
          ],
          "font": {
           "color": "#2a3f5f"
          },
          "geo": {
           "bgcolor": "white",
           "lakecolor": "white",
           "landcolor": "#E5ECF6",
           "showlakes": true,
           "showland": true,
           "subunitcolor": "white"
          },
          "hoverlabel": {
           "align": "left"
          },
          "hovermode": "closest",
          "mapbox": {
           "style": "light"
          },
          "paper_bgcolor": "white",
          "plot_bgcolor": "#E5ECF6",
          "polar": {
           "angularaxis": {
            "gridcolor": "white",
            "linecolor": "white",
            "ticks": ""
           },
           "bgcolor": "#E5ECF6",
           "radialaxis": {
            "gridcolor": "white",
            "linecolor": "white",
            "ticks": ""
           }
          },
          "scene": {
           "xaxis": {
            "backgroundcolor": "#E5ECF6",
            "gridcolor": "white",
            "gridwidth": 2,
            "linecolor": "white",
            "showbackground": true,
            "ticks": "",
            "zerolinecolor": "white"
           },
           "yaxis": {
            "backgroundcolor": "#E5ECF6",
            "gridcolor": "white",
            "gridwidth": 2,
            "linecolor": "white",
            "showbackground": true,
            "ticks": "",
            "zerolinecolor": "white"
           },
           "zaxis": {
            "backgroundcolor": "#E5ECF6",
            "gridcolor": "white",
            "gridwidth": 2,
            "linecolor": "white",
            "showbackground": true,
            "ticks": "",
            "zerolinecolor": "white"
           }
          },
          "shapedefaults": {
           "line": {
            "color": "#2a3f5f"
           }
          },
          "ternary": {
           "aaxis": {
            "gridcolor": "white",
            "linecolor": "white",
            "ticks": ""
           },
           "baxis": {
            "gridcolor": "white",
            "linecolor": "white",
            "ticks": ""
           },
           "bgcolor": "#E5ECF6",
           "caxis": {
            "gridcolor": "white",
            "linecolor": "white",
            "ticks": ""
           }
          },
          "title": {
           "x": 0.05
          },
          "xaxis": {
           "automargin": true,
           "gridcolor": "white",
           "linecolor": "white",
           "ticks": "",
           "title": {
            "standoff": 15
           },
           "zerolinecolor": "white",
           "zerolinewidth": 2
          },
          "yaxis": {
           "automargin": true,
           "gridcolor": "white",
           "linecolor": "white",
           "ticks": "",
           "title": {
            "standoff": 15
           },
           "zerolinecolor": "white",
           "zerolinewidth": 2
          }
         }
        },
        "title": {
         "text": "Comparación del Dominio 'Jobs' entre Países"
        },
        "xaxis": {
         "anchor": "y",
         "domain": [
          0,
          1
         ],
         "title": {
          "text": "Country"
         }
        },
        "yaxis": {
         "anchor": "x",
         "domain": [
          0,
          1
         ],
         "title": {
          "text": "Jobs"
         }
        }
       }
      }
     },
     "metadata": {},
     "output_type": "display_data"
    }
   ],
   "source": [
    "fig = px.bar(df_promedios_por_dominio,x=\"Country\",y=\"Jobs\",title=\"Comparación del Dominio 'Jobs' entre Países\",color=\"Jobs\",color_continuous_scale=\"Reds\")\n",
    "fig.show()"
   ]
  },
  {
   "cell_type": "code",
   "execution_count": 18,
   "id": "a146e69c",
   "metadata": {},
   "outputs": [
    {
     "data": {
      "application/vnd.plotly.v1+json": {
       "config": {
        "plotlyServerURL": "https://plot.ly"
       },
       "data": [
        {
         "hovertemplate": "Country=%{x}<br>Total=%{marker.color}<extra></extra>",
         "legendgroup": "",
         "marker": {
          "color": {
           "bdata": "WvNHzotA6T+3ksQkpu7oP32OhVKktOg/uX5DHt2B6D8ku+jofPjnP4TEpR0X8Oc/yZvmdt/d5z+hYteK7tPnP5c2FjM4vec/p8IIvBqB5z/HjRFE2XTnP5lAilhrU+Y/r6sV0tgv5j9pupMEab/lP+mhIW0wl+U/E/67LFtV5T9/1Crvc0/lP+fQHSuwLeU/nkB6Y9Ic5T/8A5gmO/bkPwenu3To8+Q/D6yGV1P34z+xrhR/2OjjP+HzYMAgueM/CbCpgppv4z/Z+iqVJU/jP4/mvyh5MOM/ghEoyCEa4z97+tEzE2ziP1KYj7arXeI/D9jCW8n54T/TPH9M3a/hP3HFKbKNA+E/D1VUdiL/4D+1H6+y9X3gPyFhmF8imN4/A3973mV33T+d90UsafLbP7x+lQ7GsNs/AIw4/OLN2T9Qmvi3G7rYP+Qga5z2KtM/",
           "dtype": "f8"
          },
          "coloraxis": "coloraxis",
          "pattern": {
           "shape": ""
          }
         },
         "name": "",
         "orientation": "v",
         "showlegend": false,
         "textposition": "auto",
         "type": "bar",
         "x": [
          "Iceland",
          "Sweden",
          "Norway",
          "Switzerland",
          "United States",
          "Netherlands",
          "Luxembourg",
          "Finland",
          "Denmark",
          "Australia",
          "Canada",
          "New Zealand",
          "Germany",
          "United Kingdom",
          "Slovenia",
          "Belgium",
          "Austria",
          "Czechia",
          "Ireland",
          "France",
          "Estonia",
          "Spain",
          "OECD - Total",
          "Israel",
          "Italy",
          "Slovak Republic",
          "Lithuania",
          "Poland",
          "Portugal",
          "Latvia",
          "Hungary",
          "Korea",
          "Russia",
          "Brazil",
          "Japan",
          "Costa Rica",
          "Greece",
          "Chile",
          "Türkiye",
          "Colombia",
          "Mexico",
          "South Africa"
         ],
         "xaxis": "x",
         "y": {
          "bdata": "WvNHzotA6T+3ksQkpu7oP32OhVKktOg/uX5DHt2B6D8ku+jofPjnP4TEpR0X8Oc/yZvmdt/d5z+hYteK7tPnP5c2FjM4vec/p8IIvBqB5z/HjRFE2XTnP5lAilhrU+Y/r6sV0tgv5j9pupMEab/lP+mhIW0wl+U/E/67LFtV5T9/1Crvc0/lP+fQHSuwLeU/nkB6Y9Ic5T/8A5gmO/bkPwenu3To8+Q/D6yGV1P34z+xrhR/2OjjP+HzYMAgueM/CbCpgppv4z/Z+iqVJU/jP4/mvyh5MOM/ghEoyCEa4z97+tEzE2ziP1KYj7arXeI/D9jCW8n54T/TPH9M3a/hP3HFKbKNA+E/D1VUdiL/4D+1H6+y9X3gPyFhmF8imN4/A3973mV33T+d90UsafLbP7x+lQ7GsNs/AIw4/OLN2T9Qmvi3G7rYP+Qga5z2KtM/",
          "dtype": "f8"
         },
         "yaxis": "y"
        }
       ],
       "layout": {
        "barmode": "relative",
        "coloraxis": {
         "colorbar": {
          "title": {
           "text": "Total"
          }
         },
         "colorscale": [
          [
           0,
           "#440154"
          ],
          [
           0.1111111111111111,
           "#482878"
          ],
          [
           0.2222222222222222,
           "#3e4989"
          ],
          [
           0.3333333333333333,
           "#31688e"
          ],
          [
           0.4444444444444444,
           "#26828e"
          ],
          [
           0.5555555555555556,
           "#1f9e89"
          ],
          [
           0.6666666666666666,
           "#35b779"
          ],
          [
           0.7777777777777778,
           "#6ece58"
          ],
          [
           0.8888888888888888,
           "#b5de2b"
          ],
          [
           1,
           "#fde725"
          ]
         ]
        },
        "legend": {
         "tracegroupgap": 0
        },
        "template": {
         "data": {
          "bar": [
           {
            "error_x": {
             "color": "#2a3f5f"
            },
            "error_y": {
             "color": "#2a3f5f"
            },
            "marker": {
             "line": {
              "color": "#E5ECF6",
              "width": 0.5
             },
             "pattern": {
              "fillmode": "overlay",
              "size": 10,
              "solidity": 0.2
             }
            },
            "type": "bar"
           }
          ],
          "barpolar": [
           {
            "marker": {
             "line": {
              "color": "#E5ECF6",
              "width": 0.5
             },
             "pattern": {
              "fillmode": "overlay",
              "size": 10,
              "solidity": 0.2
             }
            },
            "type": "barpolar"
           }
          ],
          "carpet": [
           {
            "aaxis": {
             "endlinecolor": "#2a3f5f",
             "gridcolor": "white",
             "linecolor": "white",
             "minorgridcolor": "white",
             "startlinecolor": "#2a3f5f"
            },
            "baxis": {
             "endlinecolor": "#2a3f5f",
             "gridcolor": "white",
             "linecolor": "white",
             "minorgridcolor": "white",
             "startlinecolor": "#2a3f5f"
            },
            "type": "carpet"
           }
          ],
          "choropleth": [
           {
            "colorbar": {
             "outlinewidth": 0,
             "ticks": ""
            },
            "type": "choropleth"
           }
          ],
          "contour": [
           {
            "colorbar": {
             "outlinewidth": 0,
             "ticks": ""
            },
            "colorscale": [
             [
              0,
              "#0d0887"
             ],
             [
              0.1111111111111111,
              "#46039f"
             ],
             [
              0.2222222222222222,
              "#7201a8"
             ],
             [
              0.3333333333333333,
              "#9c179e"
             ],
             [
              0.4444444444444444,
              "#bd3786"
             ],
             [
              0.5555555555555556,
              "#d8576b"
             ],
             [
              0.6666666666666666,
              "#ed7953"
             ],
             [
              0.7777777777777778,
              "#fb9f3a"
             ],
             [
              0.8888888888888888,
              "#fdca26"
             ],
             [
              1,
              "#f0f921"
             ]
            ],
            "type": "contour"
           }
          ],
          "contourcarpet": [
           {
            "colorbar": {
             "outlinewidth": 0,
             "ticks": ""
            },
            "type": "contourcarpet"
           }
          ],
          "heatmap": [
           {
            "colorbar": {
             "outlinewidth": 0,
             "ticks": ""
            },
            "colorscale": [
             [
              0,
              "#0d0887"
             ],
             [
              0.1111111111111111,
              "#46039f"
             ],
             [
              0.2222222222222222,
              "#7201a8"
             ],
             [
              0.3333333333333333,
              "#9c179e"
             ],
             [
              0.4444444444444444,
              "#bd3786"
             ],
             [
              0.5555555555555556,
              "#d8576b"
             ],
             [
              0.6666666666666666,
              "#ed7953"
             ],
             [
              0.7777777777777778,
              "#fb9f3a"
             ],
             [
              0.8888888888888888,
              "#fdca26"
             ],
             [
              1,
              "#f0f921"
             ]
            ],
            "type": "heatmap"
           }
          ],
          "histogram": [
           {
            "marker": {
             "pattern": {
              "fillmode": "overlay",
              "size": 10,
              "solidity": 0.2
             }
            },
            "type": "histogram"
           }
          ],
          "histogram2d": [
           {
            "colorbar": {
             "outlinewidth": 0,
             "ticks": ""
            },
            "colorscale": [
             [
              0,
              "#0d0887"
             ],
             [
              0.1111111111111111,
              "#46039f"
             ],
             [
              0.2222222222222222,
              "#7201a8"
             ],
             [
              0.3333333333333333,
              "#9c179e"
             ],
             [
              0.4444444444444444,
              "#bd3786"
             ],
             [
              0.5555555555555556,
              "#d8576b"
             ],
             [
              0.6666666666666666,
              "#ed7953"
             ],
             [
              0.7777777777777778,
              "#fb9f3a"
             ],
             [
              0.8888888888888888,
              "#fdca26"
             ],
             [
              1,
              "#f0f921"
             ]
            ],
            "type": "histogram2d"
           }
          ],
          "histogram2dcontour": [
           {
            "colorbar": {
             "outlinewidth": 0,
             "ticks": ""
            },
            "colorscale": [
             [
              0,
              "#0d0887"
             ],
             [
              0.1111111111111111,
              "#46039f"
             ],
             [
              0.2222222222222222,
              "#7201a8"
             ],
             [
              0.3333333333333333,
              "#9c179e"
             ],
             [
              0.4444444444444444,
              "#bd3786"
             ],
             [
              0.5555555555555556,
              "#d8576b"
             ],
             [
              0.6666666666666666,
              "#ed7953"
             ],
             [
              0.7777777777777778,
              "#fb9f3a"
             ],
             [
              0.8888888888888888,
              "#fdca26"
             ],
             [
              1,
              "#f0f921"
             ]
            ],
            "type": "histogram2dcontour"
           }
          ],
          "mesh3d": [
           {
            "colorbar": {
             "outlinewidth": 0,
             "ticks": ""
            },
            "type": "mesh3d"
           }
          ],
          "parcoords": [
           {
            "line": {
             "colorbar": {
              "outlinewidth": 0,
              "ticks": ""
             }
            },
            "type": "parcoords"
           }
          ],
          "pie": [
           {
            "automargin": true,
            "type": "pie"
           }
          ],
          "scatter": [
           {
            "fillpattern": {
             "fillmode": "overlay",
             "size": 10,
             "solidity": 0.2
            },
            "type": "scatter"
           }
          ],
          "scatter3d": [
           {
            "line": {
             "colorbar": {
              "outlinewidth": 0,
              "ticks": ""
             }
            },
            "marker": {
             "colorbar": {
              "outlinewidth": 0,
              "ticks": ""
             }
            },
            "type": "scatter3d"
           }
          ],
          "scattercarpet": [
           {
            "marker": {
             "colorbar": {
              "outlinewidth": 0,
              "ticks": ""
             }
            },
            "type": "scattercarpet"
           }
          ],
          "scattergeo": [
           {
            "marker": {
             "colorbar": {
              "outlinewidth": 0,
              "ticks": ""
             }
            },
            "type": "scattergeo"
           }
          ],
          "scattergl": [
           {
            "marker": {
             "colorbar": {
              "outlinewidth": 0,
              "ticks": ""
             }
            },
            "type": "scattergl"
           }
          ],
          "scattermap": [
           {
            "marker": {
             "colorbar": {
              "outlinewidth": 0,
              "ticks": ""
             }
            },
            "type": "scattermap"
           }
          ],
          "scattermapbox": [
           {
            "marker": {
             "colorbar": {
              "outlinewidth": 0,
              "ticks": ""
             }
            },
            "type": "scattermapbox"
           }
          ],
          "scatterpolar": [
           {
            "marker": {
             "colorbar": {
              "outlinewidth": 0,
              "ticks": ""
             }
            },
            "type": "scatterpolar"
           }
          ],
          "scatterpolargl": [
           {
            "marker": {
             "colorbar": {
              "outlinewidth": 0,
              "ticks": ""
             }
            },
            "type": "scatterpolargl"
           }
          ],
          "scatterternary": [
           {
            "marker": {
             "colorbar": {
              "outlinewidth": 0,
              "ticks": ""
             }
            },
            "type": "scatterternary"
           }
          ],
          "surface": [
           {
            "colorbar": {
             "outlinewidth": 0,
             "ticks": ""
            },
            "colorscale": [
             [
              0,
              "#0d0887"
             ],
             [
              0.1111111111111111,
              "#46039f"
             ],
             [
              0.2222222222222222,
              "#7201a8"
             ],
             [
              0.3333333333333333,
              "#9c179e"
             ],
             [
              0.4444444444444444,
              "#bd3786"
             ],
             [
              0.5555555555555556,
              "#d8576b"
             ],
             [
              0.6666666666666666,
              "#ed7953"
             ],
             [
              0.7777777777777778,
              "#fb9f3a"
             ],
             [
              0.8888888888888888,
              "#fdca26"
             ],
             [
              1,
              "#f0f921"
             ]
            ],
            "type": "surface"
           }
          ],
          "table": [
           {
            "cells": {
             "fill": {
              "color": "#EBF0F8"
             },
             "line": {
              "color": "white"
             }
            },
            "header": {
             "fill": {
              "color": "#C8D4E3"
             },
             "line": {
              "color": "white"
             }
            },
            "type": "table"
           }
          ]
         },
         "layout": {
          "annotationdefaults": {
           "arrowcolor": "#2a3f5f",
           "arrowhead": 0,
           "arrowwidth": 1
          },
          "autotypenumbers": "strict",
          "coloraxis": {
           "colorbar": {
            "outlinewidth": 0,
            "ticks": ""
           }
          },
          "colorscale": {
           "diverging": [
            [
             0,
             "#8e0152"
            ],
            [
             0.1,
             "#c51b7d"
            ],
            [
             0.2,
             "#de77ae"
            ],
            [
             0.3,
             "#f1b6da"
            ],
            [
             0.4,
             "#fde0ef"
            ],
            [
             0.5,
             "#f7f7f7"
            ],
            [
             0.6,
             "#e6f5d0"
            ],
            [
             0.7,
             "#b8e186"
            ],
            [
             0.8,
             "#7fbc41"
            ],
            [
             0.9,
             "#4d9221"
            ],
            [
             1,
             "#276419"
            ]
           ],
           "sequential": [
            [
             0,
             "#0d0887"
            ],
            [
             0.1111111111111111,
             "#46039f"
            ],
            [
             0.2222222222222222,
             "#7201a8"
            ],
            [
             0.3333333333333333,
             "#9c179e"
            ],
            [
             0.4444444444444444,
             "#bd3786"
            ],
            [
             0.5555555555555556,
             "#d8576b"
            ],
            [
             0.6666666666666666,
             "#ed7953"
            ],
            [
             0.7777777777777778,
             "#fb9f3a"
            ],
            [
             0.8888888888888888,
             "#fdca26"
            ],
            [
             1,
             "#f0f921"
            ]
           ],
           "sequentialminus": [
            [
             0,
             "#0d0887"
            ],
            [
             0.1111111111111111,
             "#46039f"
            ],
            [
             0.2222222222222222,
             "#7201a8"
            ],
            [
             0.3333333333333333,
             "#9c179e"
            ],
            [
             0.4444444444444444,
             "#bd3786"
            ],
            [
             0.5555555555555556,
             "#d8576b"
            ],
            [
             0.6666666666666666,
             "#ed7953"
            ],
            [
             0.7777777777777778,
             "#fb9f3a"
            ],
            [
             0.8888888888888888,
             "#fdca26"
            ],
            [
             1,
             "#f0f921"
            ]
           ]
          },
          "colorway": [
           "#636efa",
           "#EF553B",
           "#00cc96",
           "#ab63fa",
           "#FFA15A",
           "#19d3f3",
           "#FF6692",
           "#B6E880",
           "#FF97FF",
           "#FECB52"
          ],
          "font": {
           "color": "#2a3f5f"
          },
          "geo": {
           "bgcolor": "white",
           "lakecolor": "white",
           "landcolor": "#E5ECF6",
           "showlakes": true,
           "showland": true,
           "subunitcolor": "white"
          },
          "hoverlabel": {
           "align": "left"
          },
          "hovermode": "closest",
          "mapbox": {
           "style": "light"
          },
          "paper_bgcolor": "white",
          "plot_bgcolor": "#E5ECF6",
          "polar": {
           "angularaxis": {
            "gridcolor": "white",
            "linecolor": "white",
            "ticks": ""
           },
           "bgcolor": "#E5ECF6",
           "radialaxis": {
            "gridcolor": "white",
            "linecolor": "white",
            "ticks": ""
           }
          },
          "scene": {
           "xaxis": {
            "backgroundcolor": "#E5ECF6",
            "gridcolor": "white",
            "gridwidth": 2,
            "linecolor": "white",
            "showbackground": true,
            "ticks": "",
            "zerolinecolor": "white"
           },
           "yaxis": {
            "backgroundcolor": "#E5ECF6",
            "gridcolor": "white",
            "gridwidth": 2,
            "linecolor": "white",
            "showbackground": true,
            "ticks": "",
            "zerolinecolor": "white"
           },
           "zaxis": {
            "backgroundcolor": "#E5ECF6",
            "gridcolor": "white",
            "gridwidth": 2,
            "linecolor": "white",
            "showbackground": true,
            "ticks": "",
            "zerolinecolor": "white"
           }
          },
          "shapedefaults": {
           "line": {
            "color": "#2a3f5f"
           }
          },
          "ternary": {
           "aaxis": {
            "gridcolor": "white",
            "linecolor": "white",
            "ticks": ""
           },
           "baxis": {
            "gridcolor": "white",
            "linecolor": "white",
            "ticks": ""
           },
           "bgcolor": "#E5ECF6",
           "caxis": {
            "gridcolor": "white",
            "linecolor": "white",
            "ticks": ""
           }
          },
          "title": {
           "x": 0.05
          },
          "xaxis": {
           "automargin": true,
           "gridcolor": "white",
           "linecolor": "white",
           "ticks": "",
           "title": {
            "standoff": 15
           },
           "zerolinecolor": "white",
           "zerolinewidth": 2
          },
          "yaxis": {
           "automargin": true,
           "gridcolor": "white",
           "linecolor": "white",
           "ticks": "",
           "title": {
            "standoff": 15
           },
           "zerolinecolor": "white",
           "zerolinewidth": 2
          }
         }
        },
        "title": {
         "text": "Ranking Global de Calidad de Vida por País"
        },
        "xaxis": {
         "anchor": "y",
         "domain": [
          0,
          1
         ],
         "title": {
          "text": "Country"
         }
        },
        "yaxis": {
         "anchor": "x",
         "domain": [
          0,
          1
         ],
         "title": {
          "text": "Total"
         }
        }
       }
      }
     },
     "metadata": {},
     "output_type": "display_data"
    }
   ],
   "source": [
    "df_promedios_por_dominio[\"Total\"] = df_promedios_por_dominio.iloc[:, 1:].mean(axis=1)\n",
    "\n",
    "fig = px.bar(\n",
    "    df_promedios_por_dominio.sort_values(\"Total\", ascending=False),\n",
    "    x=\"Country\",\n",
    "    y=\"Total\",\n",
    "    title=\"Ranking Global de Calidad de Vida por País\",\n",
    "    color=\"Total\",\n",
    "    color_continuous_scale=\"Viridis\"\n",
    ")\n",
    "fig.show()"
   ]
  }
 ],
 "metadata": {
  "kernelspec": {
   "display_name": "Analisis",
   "language": "python",
   "name": "python3"
  },
  "language_info": {
   "codemirror_mode": {
    "name": "ipython",
    "version": 3
   },
   "file_extension": ".py",
   "mimetype": "text/x-python",
   "name": "python",
   "nbconvert_exporter": "python",
   "pygments_lexer": "ipython3",
   "version": "3.11.11"
  }
 },
 "nbformat": 4,
 "nbformat_minor": 5
}
